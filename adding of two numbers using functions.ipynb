{
 "cells": [
  {
   "cell_type": "code",
   "execution_count": 1,
   "id": "6365dcbf-5489-45ff-af1f-7f7335050dc0",
   "metadata": {},
   "outputs": [
    {
     "name": "stdout",
     "output_type": "stream",
     "text": [
      "hi\n"
     ]
    }
   ],
   "source": [
    "def fun():\n",
    "    print(\"hi\")\n",
    "fun()"
   ]
  },
  {
   "cell_type": "code",
   "execution_count": null,
   "id": "7cfc9b2a-0dd4-4f1d-9e78-f776b8db2438",
   "metadata": {},
   "outputs": [],
   "source": [
    "#anonymous function lambda\n",
    "#syntax: lambda parameter_1,.....parameter_n:expression"
   ]
  },
  {
   "cell_type": "code",
   "execution_count": 11,
   "id": "cf5ef2c6-c283-487c-83f1-0f4af0e1b73c",
   "metadata": {},
   "outputs": [
    {
     "name": "stdin",
     "output_type": "stream",
     "text": [
      "Enter n1 value 2\n",
      "Enter n2 value 2\n"
     ]
    },
    {
     "name": "stdout",
     "output_type": "stream",
     "text": [
      "<function sum at 0x00000124518EF100>\n"
     ]
    }
   ],
   "source": [
    "\n",
    "def sum(n1,n2):\n",
    "    sum=n1+n2\n",
    "    return sum\n",
    "n1=int(input(\"Enter n1 value\"))\n",
    "n2=int(input(\"Enter n2 value\"))\n",
    "s\n"
   ]
  },
  {
   "cell_type": "code",
   "execution_count": null,
   "id": "4b956395-3035-4ac2-8fa3-10df9dec52bf",
   "metadata": {},
   "outputs": [],
   "source": [
    "\n"
   ]
  }
 ],
 "metadata": {
  "kernelspec": {
   "display_name": "Python 3 (ipykernel)",
   "language": "python",
   "name": "python3"
  },
  "language_info": {
   "codemirror_mode": {
    "name": "ipython",
    "version": 3
   },
   "file_extension": ".py",
   "mimetype": "text/x-python",
   "name": "python",
   "nbconvert_exporter": "python",
   "pygments_lexer": "ipython3",
   "version": "3.12.4"
  }
 },
 "nbformat": 4,
 "nbformat_minor": 5
}
