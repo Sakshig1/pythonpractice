{
 "cells": [
  {
   "cell_type": "code",
   "execution_count": 1,
   "id": "629f47ae-4e82-4fe8-b549-793de3bdbd42",
   "metadata": {},
   "outputs": [
    {
     "name": "stdout",
     "output_type": "stream",
     "text": [
      "{}\n"
     ]
    }
   ],
   "source": [
    "#create an empty dictionary\n",
    "dic={}\n",
    "print(dic)"
   ]
  },
  {
   "cell_type": "code",
   "execution_count": 3,
   "id": "918a22f9-f42f-4ed3-b38b-85ce0939f3a3",
   "metadata": {},
   "outputs": [
    {
     "name": "stdout",
     "output_type": "stream",
     "text": [
      "{1: 'focus', 2: 'academy', 3: 'for', 4: 'career', 5: 'Enhancement'}\n"
     ]
    }
   ],
   "source": [
    "#create a dictionary with integer keys\n",
    "dic={1:\"focus\",2:\"academy\",3:\"for\",4:\"career\",5:\"Enhancement\"}\n",
    "print(dic)"
   ]
  },
  {
   "cell_type": "code",
   "execution_count": 7,
   "id": "67557121-556d-439a-9450-9b41ea126f14",
   "metadata": {},
   "outputs": [
    {
     "name": "stdout",
     "output_type": "stream",
     "text": [
      "{1: (2, 4, 5), 'Name': 'Face', 4: [5, 7]}\n"
     ]
    }
   ],
   "source": [
    "#create a dictionary with mixed keys\n",
    "dic={1:(2,4,5),\"Name\":\"Face\",4:[5,7]}\n",
    "print(dic)"
   ]
  },
  {
   "cell_type": "code",
   "execution_count": 9,
   "id": "6b9047aa-b979-4a09-a53e-fec9975e7bbf",
   "metadata": {},
   "outputs": [
    {
     "name": "stdout",
     "output_type": "stream",
     "text": [
      "{1: [2, 4, 5], 'Name': 'Face', 4: [5, 7]}\n"
     ]
    }
   ],
   "source": [
    "dic=dict({1:[2,4,5],\"Name\":\"Face\",4:[5,7]})\n",
    "print(dic)"
   ]
  },
  {
   "cell_type": "code",
   "execution_count": 11,
   "id": "dee0741b-0e08-42eb-8cb7-ee444f5a7812",
   "metadata": {},
   "outputs": [
    {
     "name": "stdout",
     "output_type": "stream",
     "text": [
      "{1: 2, 'Name': 'Face', 4: 5}\n"
     ]
    }
   ],
   "source": [
    "dic=dict([(1,2),(\"Name\",\"Face\"),(4,5)])\n",
    "print(dic)"
   ]
  },
  {
   "cell_type": "code",
   "execution_count": 13,
   "id": "978cbd28-cdd5-4b9c-9469-5b30e845bc49",
   "metadata": {},
   "outputs": [
    {
     "name": "stdout",
     "output_type": "stream",
     "text": [
      "{1: 'Face', 2: 4, 3: {5: 'hello', 6: 9.5}}\n"
     ]
    }
   ],
   "source": [
    "#creating a nested dictionary\n",
    "dic={1:\"Face\",2:4,3:{5:\"hello\",6:9.5}}\n",
    "print(dic)"
   ]
  },
  {
   "cell_type": "code",
   "execution_count": 15,
   "id": "77a4d612-7be0-4c42-bd58-dfe4912f8a97",
   "metadata": {},
   "outputs": [
    {
     "name": "stdout",
     "output_type": "stream",
     "text": [
      "{0: 'Apple', 1: 'Hard', 3: 'work'}\n"
     ]
    }
   ],
   "source": [
    "#adding elements to dictionary\n",
    "dic={}\n",
    "dic[0]=\"Apple\"\n",
    "dic[1]=\"Hard\"\n",
    "dic[3]=\"work\"\n",
    "print(dic)"
   ]
  },
  {
   "cell_type": "code",
   "execution_count": 25,
   "id": "c409317a-84cb-4620-828e-aad63e13a025",
   "metadata": {},
   "outputs": [
    {
     "name": "stdout",
     "output_type": "stream",
     "text": [
      "{0: 'Apple', 1: 'Hard', 3: 'work', 'new_set': (1, 5, 8)}\n"
     ]
    }
   ],
   "source": [
    "dic['new_set']=1,5,8\n",
    "print(dic)"
   ]
  },
  {
   "cell_type": "code",
   "execution_count": 29,
   "id": "eb6ee0ed-4c62-4324-a031-9e16d73d7ee0",
   "metadata": {},
   "outputs": [
    {
     "name": "stdout",
     "output_type": "stream",
     "text": [
      "(1, 5, 8)\n",
      "hard\n"
     ]
    }
   ],
   "source": [
    "#accessing elements using dic\n",
    "dic={0:'apple',1:'hard',3:'work','new_set':(1,5,8)}\n",
    "print(dic['new_set'])\n",
    "print(dic[1])"
   ]
  },
  {
   "cell_type": "code",
   "execution_count": 27,
   "id": "2164bdf4-5605-4b15-9dcf-49450b9e762b",
   "metadata": {},
   "outputs": [
    {
     "name": "stdout",
     "output_type": "stream",
     "text": [
      "(1, 5, 8)\n",
      "Hard\n"
     ]
    }
   ],
   "source": [
    "#accessing elements using get()\n",
    "dic={0:'Apple',1:'Hard',3:'work','new_set':(1,5,8)}\n",
    "print(dic.get(\"new_set\"))\n",
    "print(dic.get(1))"
   ]
  },
  {
   "cell_type": "code",
   "execution_count": null,
   "id": "dc7bdf41-4628-4d58-8969-2349a9d0310a",
   "metadata": {},
   "outputs": [],
   "source": [
    "#removing elements\n",
    "dic={0:'Apple',1:'Hard',3:'work','new_set':(1,5,8)}\n",
    "dic.pop(\"new_set\")\n",
    "print(dic)"
   ]
  },
  {
   "cell_type": "code",
   "execution_count": 3,
   "id": "3a91a98b-fc52-4193-9ab2-590b80d7a3b5",
   "metadata": {},
   "outputs": [
    {
     "name": "stdout",
     "output_type": "stream",
     "text": [
      "{0: 0, 1: 1, 2: 4, 3: 9, 4: 16}\n"
     ]
    }
   ],
   "source": [
    "#Basic Dictionary Comprehension\n",
    "#Create a Dictionary where the keys are numbers and the values are the squares of those numbers\n",
    "squares={x:x**2 for x in range(5)}\n",
    "print(squares)\n"
   ]
  },
  {
   "cell_type": "code",
   "execution_count": 5,
   "id": "97cca372-3546-4060-9e56-09907d8fb1bc",
   "metadata": {},
   "outputs": [
    {
     "name": "stdout",
     "output_type": "stream",
     "text": [
      "{0: 0, 2: 8, 4: 64, 6: 216, 8: 512}\n"
     ]
    }
   ],
   "source": [
    "#Create a Dictionary where the keys are even numbers and the values are the cubes of their number\n",
    "cubes={x:x**3 for x in range(10) if x%2==0}\n",
    "print(cubes)"
   ]
  },
  {
   "cell_type": "code",
   "execution_count": 7,
   "id": "e83eee9f-01dd-41fc-a2fb-4003b80da10a",
   "metadata": {},
   "outputs": [
    {
     "name": "stdout",
     "output_type": "stream",
     "text": [
      "{'a': 1, 'b': 2, 'c': 3}\n"
     ]
    }
   ],
   "source": [
    "keys=['a','b','c']\n",
    "values=[1,2,3]\n",
    "my_dict={keys[i]:values[i] for i in range(len(keys))}\n",
    "print(my_dict)"
   ]
  },
  {
   "cell_type": "code",
   "execution_count": 9,
   "id": "9f71e8df-8eb9-403d-a50f-30708032509f",
   "metadata": {},
   "outputs": [
    {
     "name": "stdout",
     "output_type": "stream",
     "text": [
      "{1: 'a', 2: 'b', 3: 'c'}\n"
     ]
    }
   ],
   "source": [
    "#create a dictionary by swapping keys and values from another dictionary\n",
    "original={'a':1,'b':2,'c':3}\n",
    "swapped={v:k for k,v in original.items()}\n",
    "print(swapped)"
   ]
  },
  {
   "cell_type": "code",
   "execution_count": 15,
   "id": "63967e0e-7d66-444d-aa22-5d10e3117219",
   "metadata": {},
   "outputs": [
    {
     "name": "stdout",
     "output_type": "stream",
     "text": [
      "{'b': 6, 'd': 10}\n"
     ]
    }
   ],
   "source": [
    "#filter out all entries where the value is less than 5\n",
    "original={'a':1,'b':6,'c':3,'d':10}\n",
    "filtered={k:v for k,v in original.items() if v>=5}\n",
    "print(filtered)"
   ]
  },
  {
   "cell_type": "code",
   "execution_count": 19,
   "id": "aa929806-3c7a-474f-b00e-bef1102d35f7",
   "metadata": {},
   "outputs": [
    {
     "name": "stdout",
     "output_type": "stream",
     "text": [
      "{'a': 10, 'b': 20, 'c': 30}\n"
     ]
    }
   ],
   "source": [
    "#Transforming values\n",
    "original={'a':1,'b':2,'c':3}\n",
    "transformed={k:v*10 for k,v in original.items()}\n",
    "print(transformed)"
   ]
  },
  {
   "cell_type": "code",
   "execution_count": 21,
   "id": "c48908f6-7b4c-4b15-b56e-aedb1413a1ce",
   "metadata": {},
   "outputs": [
    {
     "name": "stdout",
     "output_type": "stream",
     "text": [
      "{1: {'square': 1, 'cube': 1}, 2: {'square': 4, 'cube': 8}, 3: {'square': 9, 'cube': 27}, 4: {'square': 16, 'cube': 64}}\n"
     ]
    }
   ],
   "source": [
    "#Nested Dictionary Comprehension\n",
    "numbers=[1,2,3,4]\n",
    "nested_dict={x:{'square':x**2,'cube':x**3}for x in numbers}\n",
    "print(nested_dict)"
   ]
  },
  {
   "cell_type": "code",
   "execution_count": 23,
   "id": "bbd8592d-a32d-4d03-822e-b3360850ac3a",
   "metadata": {},
   "outputs": [
    {
     "name": "stdout",
     "output_type": "stream",
     "text": [
      "{'a': 1, 'c': 3}\n"
     ]
    }
   ],
   "source": [
    "#create a dicitionary from two lists with a condition\n",
    "keys=['a','b','c','d']\n",
    "values=[1,2,3,4]\n",
    "filtered_dict={keys[i]:values[i] for i in range(len(keys)) if i%2==0}\n",
    "print(filtered_dict)"
   ]
  },
  {
   "cell_type": "code",
   "execution_count": 25,
   "id": "e3738cc5-35ef-4828-b56a-e30f7d57453d",
   "metadata": {},
   "outputs": [
    {
     "name": "stdout",
     "output_type": "stream",
     "text": [
      "{'a': 1, 'b': 2, 'c': 3}\n"
     ]
    }
   ],
   "source": [
    "#creating dictionary from tuples\n",
    "tuples=[('a',1),('b',2),('c',3)]\n",
    "my_dict={key:value for key,value in tuples}\n",
    "print(my_dict)"
   ]
  },
  {
   "cell_type": "code",
   "execution_count": 29,
   "id": "d42dd18d-92c0-4dd0-aa2f-6f1f0932e0b2",
   "metadata": {},
   "outputs": [
    {
     "name": "stdout",
     "output_type": "stream",
     "text": [
      "{'a': 1, 'b': 2, 'c': 3, 'd': 0}\n"
     ]
    }
   ],
   "source": [
    "#Handling missing keys\n",
    "keys=['a','b','c','d']\n",
    "values=[1,2,3]\n",
    "my_dict={k:values[i] if i<len(values) else 0 for i,k in enumerate(keys)}\n",
    "print(my_dict)"
   ]
  },
  {
   "cell_type": "code",
   "execution_count": null,
   "id": "4de18411-4bcb-4c9a-a584-49beb599272d",
   "metadata": {},
   "outputs": [],
   "source": [
    " "
   ]
  },
  {
   "cell_type": "code",
   "execution_count": null,
   "id": "ce74b587-db1e-45e1-9760-c1e0b071c7fd",
   "metadata": {},
   "outputs": [],
   "source": []
  }
 ],
 "metadata": {
  "kernelspec": {
   "display_name": "Python 3 (ipykernel)",
   "language": "python",
   "name": "python3"
  },
  "language_info": {
   "codemirror_mode": {
    "name": "ipython",
    "version": 3
   },
   "file_extension": ".py",
   "mimetype": "text/x-python",
   "name": "python",
   "nbconvert_exporter": "python",
   "pygments_lexer": "ipython3",
   "version": "3.12.4"
  }
 },
 "nbformat": 4,
 "nbformat_minor": 5
}
