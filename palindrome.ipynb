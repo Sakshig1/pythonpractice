{
 "cells": [
  {
   "cell_type": "code",
   "execution_count": null,
   "id": "8055e9fb-23cb-4564-99d9-4f123676b9ca",
   "metadata": {},
   "outputs": [],
   "source": [
    "x=str(input())\n",
    "rev_text=\"\"\n",
    "for i in x:\n",
    "    rev_text=i+rev_text\n",
    "print(\"Reversed text:\", rev_text)\n",
    "if x==rev_text:\n",
    "print(\"yes it is a palindrome\")\n",
    "\n",
    "else:\n",
    "\n",
    "print(\"no the given str is not palindrome\")\n"
   ]
  }
 ],
 "metadata": {
  "kernelspec": {
   "display_name": "Python 3 (ipykernel)",
   "language": "python",
   "name": "python3"
  },
  "language_info": {
   "codemirror_mode": {
    "name": "ipython",
    "version": 3
   },
   "file_extension": ".py",
   "mimetype": "text/x-python",
   "name": "python",
   "nbconvert_exporter": "python",
   "pygments_lexer": "ipython3",
   "version": "3.12.4"
  }
 },
 "nbformat": 4,
 "nbformat_minor": 5
}
