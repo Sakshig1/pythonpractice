{
 "cells": [
  {
   "cell_type": "code",
   "execution_count": 1,
   "id": "bda63efe-319b-470a-9f90-2b3c08681b88",
   "metadata": {},
   "outputs": [
    {
     "name": "stdout",
     "output_type": "stream",
     "text": [
      "Welcome to oops concept\n"
     ]
    }
   ],
   "source": [
    "class Python:\n",
    "    def fun(self):\n",
    "        print(\"Welcome to oops concept\")\n",
    "pyt=Python()\n",
    "pyt.fun()"
   ]
  },
  {
   "cell_type": "code",
   "execution_count": 73,
   "id": "54994d19-485d-46ff-8eba-e4bb2459fbd4",
   "metadata": {},
   "outputs": [
    {
     "name": "stdout",
     "output_type": "stream",
     "text": [
      "Name: Audi Id: 200000\n"
     ]
    }
   ],
   "source": [
    "class Car:\n",
    "    def __init__(self,name,id):\n",
    "        self.name=name\n",
    "        self.id=id\n",
    "       \n",
    "    def printCardata(self):\n",
    "        print(\"Name:\",self.name,\"Id:\",self.id)\n",
    "c=Car(\"Audi\",200000)\n",
    "c.printCardata()"
   ]
  },
  {
   "cell_type": "code",
   "execution_count": 13,
   "id": "a322d293-8cb4-4f3e-a958-0bc2f33ff26f",
   "metadata": {},
   "outputs": [
    {
     "name": "stdout",
     "output_type": "stream",
     "text": [
      "Name: Sakshi Age: 21 Salary: 200000\n"
     ]
    }
   ],
   "source": [
    "class Employee:\n",
    "    def __init__(self,name,age,salary):\n",
    "        self.name=name\n",
    "        self.age=age\n",
    "        self.salary=salary\n",
    "\n",
    "    def printdata(self):\n",
    "        print(\"Name:\",self.name,\"Age:\",self.age,\"Salary:\",self.salary)\n",
    "d=Employee(\"Sakshi\",21,200000)\n",
    "d.printdata()"
   ]
  },
  {
   "cell_type": "code",
   "execution_count": 27,
   "id": "527566e5-cacf-4b9b-a5a8-6be2898d7f07",
   "metadata": {},
   "outputs": [
    {
     "name": "stdout",
     "output_type": "stream",
     "text": [
      "Sakshi 21 200000\n"
     ]
    }
   ],
   "source": [
    "class Employee:\n",
    "    def __init__(self,name,age,salary):\n",
    "        self.name=name\n",
    "        self.age=age\n",
    "        self.salary=salary\n",
    "    def printdata(self):\n",
    "        print(self.name,self.age,self.salary)\n",
    "d=Employee(\"Sakshi\",21,200000)\n",
    "d.printdata()"
   ]
  },
  {
   "cell_type": "code",
   "execution_count": 41,
   "id": "e27d7827-1f2f-4950-a4ae-9779e0fdc64e",
   "metadata": {},
   "outputs": [
    {
     "name": "stdout",
     "output_type": "stream",
     "text": [
      "eagle Crow sparrow\n"
     ]
    }
   ],
   "source": [
    "class Birds:\n",
    "    def __init__(self,b1,b2,b3):\n",
    "        self.b1=b1\n",
    "        self.b2=b2\n",
    "        self.b3=b3\n",
    "    def printdata(self):\n",
    "        print(self.b1,self.b2,self.b3)\n",
    "b=Birds(\"eagle\",\"Crow\",\"sparrow\")\n",
    "b.printdata()"
   ]
  },
  {
   "cell_type": "code",
   "execution_count": 69,
   "id": "5be14054-0980-4d21-8710-20f2f798b74c",
   "metadata": {},
   "outputs": [
    {
     "name": "stdout",
     "output_type": "stream",
     "text": [
      "positive\n"
     ]
    }
   ],
   "source": [
    "class Numbers:\n",
    "    def __init__(self,n):\n",
    "        self.n1=n\n",
    "    def check_data(self):\n",
    "        if self.n1>0:\n",
    "            print(\"positive\")\n",
    "        else:\n",
    "            print(\"negative\")\n",
    "c1=Numbers(1)\n",
    "c1.check_data()"
   ]
  },
  {
   "cell_type": "code",
   "execution_count": 71,
   "id": "2118a336-0444-4c84-8965-3d4f0a185932",
   "metadata": {},
   "outputs": [
    {
     "name": "stdout",
     "output_type": "stream",
     "text": [
      "Hello\n",
      "10\n"
     ]
    }
   ],
   "source": [
    "class Test:\n",
    "    x=10\n",
    "    def __init__(self):\n",
    "        print(\"Hello\")\n",
    "t=Test()\n",
    "print(Test.x)"
   ]
  },
  {
   "cell_type": "code",
   "execution_count": 79,
   "id": "63b6ebde-2dd9-4831-8db1-69bb3a7f4522",
   "metadata": {},
   "outputs": [
    {
     "name": "stdout",
     "output_type": "stream",
     "text": [
      "Total Cars: 3\n",
      "Name: Audi Id: 200000\n",
      "Name: Benz Id: 3000000\n",
      "Name: bmw Id: 4000000\n"
     ]
    }
   ],
   "source": [
    "class Car:\n",
    "    car=0\n",
    "    def __init__(self,name,id):\n",
    "        self.name=name\n",
    "        self.id=id\n",
    "        Car.car+=1\n",
    "       \n",
    "    def printCardata(self):\n",
    "        print(\"Name:\",self.name,\"Id:\",self.id)\n",
    "c=Car(\"Audi\",200000)\n",
    "c1=Car(\"Benz\",3000000)\n",
    "c2=Car(\"bmw\",4000000)\n",
    "print(\"Total Cars:\",Car.car)\n",
    "c.printCardata()\n",
    "c1.printCardata()\n",
    "c2.printCardata()"
   ]
  },
  {
   "cell_type": "code",
   "execution_count": 91,
   "id": "f56d60af-3dfe-44b7-b97c-72ce6995d6e0",
   "metadata": {},
   "outputs": [
    {
     "name": "stdout",
     "output_type": "stream",
     "text": [
      "Car\n"
     ]
    }
   ],
   "source": [
    "class test:\n",
    "    def __init__(self):\n",
    "        self.variable='Car'\n",
    "        self.Change(self.variable)\n",
    "    def Change(self,var):\n",
    "        var='Bike'\n",
    "obj=test()\n",
    "print(obj.variable)\n"
   ]
  },
  {
   "cell_type": "code",
   "execution_count": 93,
   "id": "4fe49bb3-6a2d-4e4f-91c0-c04769652b1e",
   "metadata": {},
   "outputs": [
    {
     "name": "stdout",
     "output_type": "stream",
     "text": [
      "Car\n",
      "Bike\n"
     ]
    }
   ],
   "source": [
    "class test:\n",
    "    def __init__(self):\n",
    "        self.variable='Car'\n",
    "        self.Change(self.variable)\n",
    "    def Change(self,var):\n",
    "         self.var='Bike'\n",
    "obj=test()\n",
    "print(obj.variable)\n",
    "print(obj.var)"
   ]
  },
  {
   "cell_type": "code",
   "execution_count": 95,
   "id": "59e50ade-fb9f-420d-9851-381b9f26b8eb",
   "metadata": {},
   "outputs": [
    {
     "name": "stdout",
     "output_type": "stream",
     "text": [
      "Bike\n",
      "Car\n"
     ]
    }
   ],
   "source": [
    "class test:\n",
    "    def __init__(self):\n",
    "        self.variable='Car'\n",
    "        self.Change(self.variable)\n",
    "    def Change(self,var):\n",
    "        var='Bike'\n",
    "        print(var)\n",
    "obj=test()\n",
    "print(obj.variable)"
   ]
  },
  {
   "cell_type": "code",
   "execution_count": 101,
   "id": "0d22fdd9-1cb9-42ed-854f-53c09fc6505e",
   "metadata": {},
   "outputs": [
    {
     "name": "stdout",
     "output_type": "stream",
     "text": [
      "__main__\n"
     ]
    }
   ],
   "source": [
    "class Demo:\n",
    "    def __init__(self):\n",
    "        pass\n",
    "    def test(self):\n",
    "        print(__name__)\n",
    "obj=Demo()\n",
    "obj.test()"
   ]
  },
  {
   "cell_type": "code",
   "execution_count": null,
   "id": "ed62566c-6bb6-454d-b6b7-c9fb1ea21f79",
   "metadata": {},
   "outputs": [],
   "source": [
    "class Dog:\n",
    "    def __init__(self):\n",
    "        "
   ]
  },
  {
   "cell_type": "code",
   "execution_count": 1,
   "id": "6e483442-2bc4-465f-9a1f-5564c0e02fd7",
   "metadata": {},
   "outputs": [
    {
     "name": "stdout",
     "output_type": "stream",
     "text": [
      "Engine is powerful\n",
      "100km\n"
     ]
    }
   ],
   "source": [
    "class Car:\n",
    "    def speed(self):\n",
    "        print(\"100km\")\n",
    "class Audi(Car):\n",
    "    def engine(self):\n",
    "        print(\"Engine is powerful\")\n",
    "c=Audi()\n",
    "c.engine()\n",
    "c.speed()"
   ]
  },
  {
   "cell_type": "code",
   "execution_count": 9,
   "id": "340954a3-505c-49c1-97f1-0b1d05d9971c",
   "metadata": {},
   "outputs": [
    {
     "name": "stdout",
     "output_type": "stream",
     "text": [
      "Bark\n",
      "meow\n"
     ]
    }
   ],
   "source": [
    "class animal:\n",
    "    def sound(self):\n",
    "        print(\"Some generic sound\")\n",
    "\n",
    "class Dog(animal):\n",
    "    def sound(self):\n",
    "        print(\"Bark\")\n",
    "\n",
    "class Cat(animal):\n",
    "    def sound(self):\n",
    "        print(\"meow\")\n",
    "\n",
    "dog=Dog()\n",
    "cat=Cat()\n",
    "\n",
    "dog.sound()\n",
    "cat.sound()"
   ]
  },
  {
   "cell_type": "code",
   "execution_count": 1,
   "id": "1063fdf6-8439-4fd7-854c-8880bcce5611",
   "metadata": {},
   "outputs": [
    {
     "name": "stdin",
     "output_type": "stream",
     "text": [
      " 10\n",
      " 2\n"
     ]
    },
    {
     "name": "stdout",
     "output_type": "stream",
     "text": [
      "Addition:12\n",
      "Subtraction: 8\n",
      "Multiplication: 20\n",
      "Floor Division:5\n"
     ]
    }
   ],
   "source": [
    "#Program to create advanced calculator using single inheritance\n",
    "class Calculator:\n",
    "    def add(self,num1,num2):\n",
    "        self.num1=num1\n",
    "        self.num2=num2\n",
    "        return self.num1+self.num2\n",
    "    def sub(self,num1,num2):\n",
    "        return num1-num2;\n",
    "\n",
    "class AdvancedCalculator(Calculator):\n",
    "    def mul(self,num1,num2):\n",
    "        print(\"Multiplication:\",num1*num2)\n",
    "    def div(self,num1,num2):\n",
    "        return num1//num2;\n",
    "\n",
    "x=AdvancedCalculator()\n",
    "num1=int(input())\n",
    "num2=int(input())\n",
    "print(\"Addition:%d\"%(x.add(num1,num2)))\n",
    "print(\"Subtraction:\",(x.sub(num1,num2)))\n",
    "x.mul(num1,num2)\n",
    "print(\"Floor Division:%d\"%(x.div(num1,num2)))"
   ]
  },
  {
   "cell_type": "code",
   "execution_count": 49,
   "id": "90a4df77-b12c-4daf-b247-46a6dfe5dbec",
   "metadata": {},
   "outputs": [
    {
     "name": "stdin",
     "output_type": "stream",
     "text": [
      " 1\n"
     ]
    },
    {
     "ename": "NameError",
     "evalue": "name 'rooms' is not defined",
     "output_type": "error",
     "traceback": [
      "\u001b[1;31m---------------------------------------------------------------------------\u001b[0m",
      "\u001b[1;31mNameError\u001b[0m                                 Traceback (most recent call last)",
      "Cell \u001b[1;32mIn[49], line 14\u001b[0m\n\u001b[0;32m     12\u001b[0m i\u001b[38;5;241m=\u001b[39m\u001b[38;5;28mint\u001b[39m(\u001b[38;5;28minput\u001b[39m())\n\u001b[0;32m     13\u001b[0m c\u001b[38;5;241m=\u001b[39mNormalroom()\n\u001b[1;32m---> 14\u001b[0m c\u001b[38;5;241m.\u001b[39mcalculates(rooms,days)\n",
      "\u001b[1;31mNameError\u001b[0m: name 'rooms' is not defined"
     ]
    }
   ],
   "source": [
    "class Normalroom:\n",
    "    def calculates(self,no_rooms,days):\n",
    "        self.no_rooms=no_rooms;\n",
    "        self.days=days;\n",
    "        if self.days==1:\n",
    "            print(\"Room rent is 300\")\n",
    "        elif self.days>1 and self.days<=5:\n",
    "            print(\"Room rent is 250\")\n",
    "        else:\n",
    "            print(\"Room rent is 200\")\n",
    "\n",
    "i=int(input())\n",
    "c=Normalroom()\n",
    "c.calculates(rooms,days)"
   ]
  },
  {
   "cell_type": "code",
   "execution_count": 3,
   "id": "2b60628a-076f-45f8-9b9d-b773fc1d29d6",
   "metadata": {},
   "outputs": [
    {
     "name": "stdout",
     "output_type": "stream",
     "text": [
      "Hotel Name: Grand Palace\n",
      "Address: 123 Street, City\n",
      "Mobile: 9876543210\n",
      "Normal Room Rent: 500 perday\n",
      "AC Room Rent: 600 perday\n",
      "Suite Room Rent: 900 perday\n"
     ]
    }
   ],
   "source": [
    "# Base Class\n",
    "class NormalRoom:\n",
    "    def calculate(self, no_rooms, days):\n",
    "        if days == 1:\n",
    "            rent = 300\n",
    "        elif 1 < days <= 5:\n",
    "            rent = 250\n",
    "        else:\n",
    "            rent = 200\n",
    "        return no_rooms * rent\n",
    "\n",
    "class AC_Room:\n",
    "    def calculate(self, no_rooms, days):\n",
    "        if days == 1:\n",
    "            rent = 450\n",
    "        elif 1 < days <= 5:\n",
    "            rent = 300\n",
    "        else:\n",
    "            rent = 250\n",
    "        return no_rooms * rent\n",
    "\n",
    "class Suite_Room:\n",
    "    def calculate(self, no_rooms, days):\n",
    "        if days == 1:\n",
    "            rent = 550\n",
    "        elif 1 < days <= 5:\n",
    "            rent = 500\n",
    "        else:\n",
    "            rent = 450\n",
    "        return no_rooms * rent\n",
    "\n",
    "# Derived Class\n",
    "class Hotel(NormalRoom, AC_Room, Suite_Room):\n",
    "    def display(self, name, address, mobile):\n",
    "        print(f\"Hotel Name: {name}\")\n",
    "        print(f\"Address: {address}\")\n",
    "        print(f\"Mobile: {mobile}\")\n",
    "\n",
    "\n",
    "# Example Usage\n",
    "hotel = Hotel()\n",
    "hotel.display(\"Grand Palace\", \"123 Street, City\", \"9876543210\")\n",
    "\n",
    "normal_rent = hotel.calculate(no_rooms=2, days=3)  \n",
    "print(f\"Normal Room Rent: {normal_rent} perday\")\n",
    "\n",
    "# AC Room Calculation\n",
    "ac_rent = AC_Room().calculate(no_rooms=2, days=4)  # Specific to AC_Room\n",
    "print(f\"AC Room Rent: {ac_rent} perday\")\n",
    "\n",
    "# Suite Room Calculation\n",
    "suite_rent = Suite_Room().calculate(no_rooms=2, days=6)  \n",
    "print(f\"Suite Room Rent: {suite_rent} perday\")"
   ]
  },
  {
   "cell_type": "code",
   "execution_count": 5,
   "id": "dfc25920-5625-414d-ab32-06f70b1fad6d",
   "metadata": {},
   "outputs": [
    {
     "name": "stdin",
     "output_type": "stream",
     "text": [
      " as\n",
      " 3\n"
     ]
    }
   ],
   "source": [
    "#Write a python program to calculate salary of the temporary staff using multilevel inheritance\n",
    "class Person:\n",
    "    def __init__(self,name):\n",
    "        self.name=name\n",
    "    def display(self,name):\n",
    "        print(\"Name:\",self.name)\n",
    "\n",
    "class Staff(Person):\n",
    "    def __init__(self,id):\n",
    "        self.id=id\n",
    "    def display(self,id):\n",
    "        print(\"Id:\",id)\n",
    "\n",
    "class Temporarystaff(Staff):\n",
    "    def __init__(self,days,hour):\n",
    "        self.days=days\n",
    "        self.hour=hour\n",
    "    def salary(self):\n",
    "        salary=days*hour*150\n",
    "        return salary\n",
    "    def display(self):\n",
    "        print(\"No of days:\",days)\n",
    "        print(\"No of hours:\",hour)\n",
    "        print(\"Total Salary=\",self.salary())\n",
    "\n",
    "name=input()\n",
    "id=int(input())\n",
    "        \n",
    "        \n",
    "        "
   ]
  },
  {
   "cell_type": "code",
   "execution_count": 5,
   "id": "02e90b83-f3b8-4ef1-acf4-f7e44b214066",
   "metadata": {},
   "outputs": [
    {
     "name": "stdin",
     "output_type": "stream",
     "text": [
      " 45\n"
     ]
    },
    {
     "name": "stdout",
     "output_type": "stream",
     "text": [
      "23\n"
     ]
    }
   ],
   "source": [
    "#encapsulation\n",
    "#prgm tp find the sum of odd nums between 1 and n range\n",
    "class sum_odd:\n",
    "    def calc(self):\n",
    "        __n=int(input())\n",
    "        x=0\n",
    "        for i in range(1,__n+1,2):\n",
    "          x+=1\n",
    "        print(x)\n",
    "m=sum_odd()\n",
    "m.calc()\n"
   ]
  },
  {
   "cell_type": "code",
   "execution_count": 9,
   "id": "a2619ef6-a92d-43e9-ae95-efed2f7b59f6",
   "metadata": {},
   "outputs": [
    {
     "name": "stdin",
     "output_type": "stream",
     "text": [
      " 12\n"
     ]
    },
    {
     "name": "stdout",
     "output_type": "stream",
     "text": [
      "EVEN\n"
     ]
    }
   ],
   "source": [
    "#prgm to find given num is odd or even using class.if the num is odd print\"ODD\",else print \"EVEN\"\n",
    "class check:\n",
    "    def odd_even(self):\n",
    "        _n=int(input())\n",
    "        if _n%2==0:\n",
    "            print(\"EVEN\")\n",
    "        else:\n",
    "            print(\"ODD\")\n",
    "ob=check()\n",
    "ob.odd_even()"
   ]
  },
  {
   "cell_type": "code",
   "execution_count": null,
   "id": "cc078b23-0d2a-4463-81d3-137ea1f34305",
   "metadata": {},
   "outputs": [],
   "source": []
  }
 ],
 "metadata": {
  "kernelspec": {
   "display_name": "Python 3 (ipykernel)",
   "language": "python",
   "name": "python3"
  },
  "language_info": {
   "codemirror_mode": {
    "name": "ipython",
    "version": 3
   },
   "file_extension": ".py",
   "mimetype": "text/x-python",
   "name": "python",
   "nbconvert_exporter": "python",
   "pygments_lexer": "ipython3",
   "version": "3.12.4"
  }
 },
 "nbformat": 4,
 "nbformat_minor": 5
}
