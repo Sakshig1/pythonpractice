{
 "cells": [
  {
   "cell_type": "code",
   "execution_count": null,
   "id": "46f69989-74ae-4909-b11f-f9de682693ef",
   "metadata": {},
   "outputs": [],
   "source": [
    "x=int(input())\n",
    "z=str(x)\n",
    "tot_digit=0\n",
    "for i in z:\n",
    "    "
   ]
  }
 ],
 "metadata": {
  "kernelspec": {
   "display_name": "Python 3 (ipykernel)",
   "language": "python",
   "name": "python3"
  },
  "language_info": {
   "codemirror_mode": {
    "name": "ipython",
    "version": 3
   },
   "file_extension": ".py",
   "mimetype": "text/x-python",
   "name": "python",
   "nbconvert_exporter": "python",
   "pygments_lexer": "ipython3",
   "version": "3.12.4"
  }
 },
 "nbformat": 4,
 "nbformat_minor": 5
}
