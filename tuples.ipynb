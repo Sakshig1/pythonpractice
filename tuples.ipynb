{
 "cells": [
  {
   "cell_type": "code",
   "execution_count": 1,
   "id": "7180ff97-6ae9-4b28-b7d5-13714ed84092",
   "metadata": {},
   "outputs": [
    {
     "name": "stdout",
     "output_type": "stream",
     "text": [
      "()\n"
     ]
    }
   ],
   "source": [
    "#empty tuple\n",
    "e=()\n",
    "print(e)"
   ]
  },
  {
   "cell_type": "code",
   "execution_count": 2,
   "id": "b07a6609-efd1-4c81-8d8e-bf3a5ddbd71c",
   "metadata": {},
   "outputs": [
    {
     "name": "stdout",
     "output_type": "stream",
     "text": [
      "(26, 45, 32)\n"
     ]
    }
   ],
   "source": [
    "#creating tuples\n",
    "value=26,45,32\n",
    "print(value)"
   ]
  },
  {
   "cell_type": "code",
   "execution_count": 3,
   "id": "0b84020e-e5eb-4a38-8465-31ca69996126",
   "metadata": {},
   "outputs": [
    {
     "name": "stdout",
     "output_type": "stream",
     "text": [
      "(26.67, 45.65, 32)\n"
     ]
    }
   ],
   "source": [
    "value=26.67,45.65,32\n",
    "print(value)"
   ]
  },
  {
   "cell_type": "code",
   "execution_count": 4,
   "id": "70e029f7-5e99-40cf-b82e-cf686d9fbe90",
   "metadata": {},
   "outputs": [
    {
     "name": "stdout",
     "output_type": "stream",
     "text": [
      "(26.67, 45.65, 32, 'hello')\n"
     ]
    }
   ],
   "source": [
    "value=26.67,45.65,32,\"hello\"\n",
    "print(value)"
   ]
  },
  {
   "cell_type": "code",
   "execution_count": 5,
   "id": "a4a25b9b-ed9d-41c0-8efc-e375e490e60f",
   "metadata": {},
   "outputs": [
    {
     "name": "stdout",
     "output_type": "stream",
     "text": [
      "('hello',) <class 'tuple'>\n"
     ]
    }
   ],
   "source": [
    "value=\"hello\",\n",
    "print(value,type(value))"
   ]
  },
  {
   "cell_type": "code",
   "execution_count": 6,
   "id": "11b987ad-5541-4edf-8504-67f3fecb86e8",
   "metadata": {},
   "outputs": [
    {
     "ename": "TypeError",
     "evalue": "'tuple' object does not support item assignment",
     "output_type": "error",
     "traceback": [
      "\u001b[1;31m---------------------------------------------------------------------------\u001b[0m",
      "\u001b[1;31mTypeError\u001b[0m                                 Traceback (most recent call last)",
      "Cell \u001b[1;32mIn[6], line 4\u001b[0m\n\u001b[0;32m      1\u001b[0m \u001b[38;5;66;03m#immutable \u001b[39;00m\n\u001b[0;32m      2\u001b[0m \u001b[38;5;66;03m#tuples doesnot change the value\u001b[39;00m\n\u001b[0;32m      3\u001b[0m value\u001b[38;5;241m=\u001b[39m\u001b[38;5;241m26.67\u001b[39m,\u001b[38;5;241m45.65\u001b[39m,\u001b[38;5;241m32\u001b[39m,\u001b[38;5;124m\"\u001b[39m\u001b[38;5;124mhello\u001b[39m\u001b[38;5;124m\"\u001b[39m\n\u001b[1;32m----> 4\u001b[0m value[\u001b[38;5;241m1\u001b[39m]\u001b[38;5;241m=\u001b[39m\u001b[38;5;241m7\u001b[39m\n\u001b[0;32m      5\u001b[0m \u001b[38;5;28mprint\u001b[39m(value)\n",
      "\u001b[1;31mTypeError\u001b[0m: 'tuple' object does not support item assignment"
     ]
    }
   ],
   "source": [
    "#immutable \n",
    "#tuples doesnot change the value\n",
    "value=26.67,45.65,32,\"hello\"\n",
    "value[1]=7\n",
    "print(value)"
   ]
  },
  {
   "cell_type": "code",
   "execution_count": 32,
   "id": "31157a64-b6ef-48a6-871b-df9a5e814844",
   "metadata": {},
   "outputs": [
    {
     "name": "stdout",
     "output_type": "stream",
     "text": [
      "(26.67, 45.65, 32, 'hello', 7.56, 'python')\n"
     ]
    }
   ],
   "source": [
    "value=26.67,45.65,32,\"hello\"\n",
    "value2=7.56,\"python\"\n",
    "print(value+value2)"
   ]
  },
  {
   "cell_type": "code",
   "execution_count": 34,
   "id": "068b8009-7c79-4ead-acc7-3ee3d130238a",
   "metadata": {},
   "outputs": [
    {
     "name": "stdout",
     "output_type": "stream",
     "text": [
      "((26.67, 45.65, 32, 'hello'), (7.56, 'python'))\n"
     ]
    }
   ],
   "source": [
    "#nesting of tuples\n",
    "value=26.67,45.65,32,\"hello\"\n",
    "value2=7.56,\"python\"\n",
    "value3=value,value2\n",
    "print(value3)"
   ]
  },
  {
   "cell_type": "code",
   "execution_count": 36,
   "id": "4b973724-5550-4b89-bc15-5f326b876107",
   "metadata": {},
   "outputs": [
    {
     "name": "stdout",
     "output_type": "stream",
     "text": [
      "(26.67, 45.65, 32, 'hello', 26.67, 45.65, 32, 'hello')\n"
     ]
    }
   ],
   "source": [
    "#repetition of tuples\n",
    "value=(26.67,45.65,32,\"hello\",)*2\n",
    "print(value)"
   ]
  },
  {
   "cell_type": "code",
   "execution_count": 38,
   "id": "84dcc70d-dba9-40b8-a7e5-048beb8e5960",
   "metadata": {},
   "outputs": [
    {
     "name": "stdout",
     "output_type": "stream",
     "text": [
      "7.5\n"
     ]
    }
   ],
   "source": [
    "#Accessing values in tuple\n",
    "value=(26,45,\"hello\",7.5)\n",
    "print(value[3])"
   ]
  },
  {
   "cell_type": "code",
   "execution_count": 40,
   "id": "84af9a65-b141-485e-ae23-567ac4440bcb",
   "metadata": {},
   "outputs": [
    {
     "name": "stdout",
     "output_type": "stream",
     "text": [
      "(26, 45, 'hello', 7.5)\n"
     ]
    }
   ],
   "source": [
    "#slicing in tuples\n",
    "value=(26,45,\"hello\",7.5)\n",
    "print(value[0:])\n"
   ]
  },
  {
   "cell_type": "code",
   "execution_count": 42,
   "id": "62d5208e-b8b2-470d-80f5-97553e9a0589",
   "metadata": {},
   "outputs": [
    {
     "name": "stdout",
     "output_type": "stream",
     "text": [
      "('hello', 7.5)\n"
     ]
    }
   ],
   "source": [
    "value=(26,45,\"hello\",7.5)\n",
    "print(value[2:])"
   ]
  },
  {
   "cell_type": "code",
   "execution_count": 44,
   "id": "07984110-2406-43ee-bc29-3b018eea6a16",
   "metadata": {},
   "outputs": [
    {
     "name": "stdout",
     "output_type": "stream",
     "text": [
      "(26, 45, 'hello')\n"
     ]
    }
   ],
   "source": [
    "value=(26,45,\"hello\",7.5)\n",
    "print(value[:3])"
   ]
  },
  {
   "cell_type": "code",
   "execution_count": 46,
   "id": "eec204b6-810f-475b-af0c-4431b3f05549",
   "metadata": {},
   "outputs": [
    {
     "name": "stdout",
     "output_type": "stream",
     "text": [
      "(26, 45, 'hello', 7.5, 'z', 5, 6.9)\n"
     ]
    }
   ],
   "source": [
    "value=(26,45,\"hello\",7.5,'z',5,6.9)\n",
    "print(value[:7])"
   ]
  },
  {
   "cell_type": "code",
   "execution_count": 48,
   "id": "b2a9bea4-a664-4c71-8ab3-32b1c4428516",
   "metadata": {},
   "outputs": [
    {
     "name": "stdout",
     "output_type": "stream",
     "text": [
      "(26, 45, 'hello', 7.5)\n"
     ]
    }
   ],
   "source": [
    "value=(26,45,\"hello\",7.5,'z',5,6.9)\n",
    "print(value[:4])"
   ]
  },
  {
   "cell_type": "code",
   "execution_count": 50,
   "id": "7a222453-3e2a-430b-8977-18571eef3dcd",
   "metadata": {},
   "outputs": [
    {
     "name": "stdout",
     "output_type": "stream",
     "text": [
      "6.9\n"
     ]
    }
   ],
   "source": [
    "value=(26,45,\"hello\",7.5,'z',5,6.9)\n",
    "print(value[-1])"
   ]
  },
  {
   "cell_type": "code",
   "execution_count": 52,
   "id": "8b29dcdd-8984-496e-b3ab-b8a798b38d66",
   "metadata": {},
   "outputs": [
    {
     "name": "stdout",
     "output_type": "stream",
     "text": [
      "(26, 45, 'hello')\n"
     ]
    }
   ],
   "source": [
    "value=(26,45,\"hello\",7.5,'z',5,6.9)\n",
    "print(value[:-4])"
   ]
  },
  {
   "cell_type": "code",
   "execution_count": 54,
   "id": "98316ba7-7782-46d5-b105-71dfd8df3d50",
   "metadata": {},
   "outputs": [
    {
     "name": "stdout",
     "output_type": "stream",
     "text": [
      "(7.5, 'z', 5, 6.9)\n"
     ]
    }
   ],
   "source": [
    "value=(26,45,\"hello\",7.5,'z',5,6.9)\n",
    "print(value[-4:])"
   ]
  },
  {
   "cell_type": "code",
   "execution_count": 56,
   "id": "671ecde7-5a10-467b-bb0c-609d7086796d",
   "metadata": {},
   "outputs": [
    {
     "name": "stdout",
     "output_type": "stream",
     "text": [
      "(26, 45, 'hello', 7.5, 'z', 5)\n"
     ]
    }
   ],
   "source": [
    "value=(26,45,\"hello\",7.5,'z',5,6.9)\n",
    "print(value[:-1])"
   ]
  },
  {
   "cell_type": "code",
   "execution_count": 58,
   "id": "db525f4a-6bbd-4040-b5bb-9abdeb519bed",
   "metadata": {},
   "outputs": [
    {
     "name": "stdout",
     "output_type": "stream",
     "text": [
      "(6.9, 5, 'z', 7.5, 'hello', 45, 26)\n"
     ]
    }
   ],
   "source": [
    "value=(26,45,\"hello\",7.5,'z',5,6.9)\n",
    "print(value[::-1])"
   ]
  },
  {
   "cell_type": "code",
   "execution_count": 60,
   "id": "0de9abce-fd60-4dbf-9a1d-995fe1c332ba",
   "metadata": {},
   "outputs": [
    {
     "name": "stdout",
     "output_type": "stream",
     "text": [
      "(6.9, 'z', 'hello', 26)\n"
     ]
    }
   ],
   "source": [
    "value=(26,45,\"hello\",7.5,'z',5,6.9)\n",
    "print(value[::-2])"
   ]
  },
  {
   "cell_type": "code",
   "execution_count": 62,
   "id": "a0f983d4-5705-4220-a722-9e0d3b2d0238",
   "metadata": {},
   "outputs": [
    {
     "name": "stdout",
     "output_type": "stream",
     "text": [
      "(6.9, 7.5, 26)\n"
     ]
    }
   ],
   "source": [
    "value=(26,45,\"hello\",7.5,'z',5,6.9)\n",
    "print(value[::-3])"
   ]
  },
  {
   "cell_type": "code",
   "execution_count": 64,
   "id": "7a65d5bb-20eb-4487-bcaf-999d5fa669b8",
   "metadata": {},
   "outputs": [
    {
     "name": "stdout",
     "output_type": "stream",
     "text": [
      "('z', 5, 6.9)\n"
     ]
    }
   ],
   "source": [
    "value=(26,45,\"hello\",7.5,'z',5,6.9)\n",
    "print(value[-3::])"
   ]
  },
  {
   "cell_type": "code",
   "execution_count": 66,
   "id": "e2c66f8c-b0c0-4d0a-87f3-bb3d8d52a799",
   "metadata": {},
   "outputs": [
    {
     "name": "stdout",
     "output_type": "stream",
     "text": [
      "(26, 'hello', 'z', 6.9)\n"
     ]
    }
   ],
   "source": [
    "value=(26,45,\"hello\",7.5,'z',5,6.9)\n",
    "print(value[::2])"
   ]
  },
  {
   "cell_type": "code",
   "execution_count": 68,
   "id": "5727ea33-17ee-45bf-87bb-5d7d37e75b58",
   "metadata": {},
   "outputs": [
    {
     "name": "stdout",
     "output_type": "stream",
     "text": [
      "(45, 'hello', 7.5)\n"
     ]
    }
   ],
   "source": [
    "value=(26,45,\"hello\",7.5,'z',5,6.9)\n",
    "print(value[1:4])"
   ]
  },
  {
   "cell_type": "code",
   "execution_count": 70,
   "id": "4f956082-6bb2-4860-a4bd-e220f5a57e3a",
   "metadata": {},
   "outputs": [
    {
     "name": "stdout",
     "output_type": "stream",
     "text": [
      "(45, 'hello', 7.5, 'z', 5, 6.9)\n"
     ]
    }
   ],
   "source": [
    "value=(26,45,\"hello\",7.5,'z',5,6.9)\n",
    "print(value[1::1])"
   ]
  },
  {
   "cell_type": "code",
   "execution_count": 72,
   "id": "c6e495c6-1630-45d9-b62b-0a7a9f7b8290",
   "metadata": {},
   "outputs": [
    {
     "name": "stdout",
     "output_type": "stream",
     "text": [
      "(45, 'z')\n"
     ]
    }
   ],
   "source": [
    "value=(26,45,\"hello\",7.5,'z',5,6.9)\n",
    "print(value[1::3])"
   ]
  },
  {
   "cell_type": "code",
   "execution_count": 74,
   "id": "e0f49fd5-cbca-4441-92c9-a1819d39f4ed",
   "metadata": {},
   "outputs": [
    {
     "name": "stdout",
     "output_type": "stream",
     "text": [
      "(6.9, 'z', 'hello', 26)\n"
     ]
    }
   ],
   "source": [
    "value=(26,45,\"hello\",7.5,'z',5,6.9)\n",
    "print(value[-1::-2])"
   ]
  },
  {
   "cell_type": "code",
   "execution_count": 76,
   "id": "0acabf6d-9ef9-43b9-8882-6d28f7ac654f",
   "metadata": {},
   "outputs": [
    {
     "name": "stdout",
     "output_type": "stream",
     "text": [
      "(45, 7.5, 5)\n"
     ]
    }
   ],
   "source": [
    "value=(26,45,\"hello\",7.5,'z',5,6.9)\n",
    "print(value[1:6:2])"
   ]
  },
  {
   "cell_type": "code",
   "execution_count": 78,
   "id": "54de6cb4-f722-4b1f-9dfa-0f9636d94b42",
   "metadata": {},
   "outputs": [
    {
     "ename": "TypeError",
     "evalue": "'tuple' object doesn't support item deletion",
     "output_type": "error",
     "traceback": [
      "\u001b[1;31m---------------------------------------------------------------------------\u001b[0m",
      "\u001b[1;31mTypeError\u001b[0m                                 Traceback (most recent call last)",
      "Cell \u001b[1;32mIn[78], line 3\u001b[0m\n\u001b[0;32m      1\u001b[0m \u001b[38;5;66;03m#deleting a tuple\u001b[39;00m\n\u001b[0;32m      2\u001b[0m value\u001b[38;5;241m=\u001b[39m(\u001b[38;5;241m26\u001b[39m,\u001b[38;5;241m45\u001b[39m,\u001b[38;5;124m\"\u001b[39m\u001b[38;5;124mhello\u001b[39m\u001b[38;5;124m\"\u001b[39m,\u001b[38;5;241m7.5\u001b[39m,\u001b[38;5;124m'\u001b[39m\u001b[38;5;124mz\u001b[39m\u001b[38;5;124m'\u001b[39m,\u001b[38;5;241m5\u001b[39m,\u001b[38;5;241m6.9\u001b[39m)\n\u001b[1;32m----> 3\u001b[0m \u001b[38;5;28;01mdel\u001b[39;00m(value[\u001b[38;5;241m1\u001b[39m])\n\u001b[0;32m      4\u001b[0m \u001b[38;5;28mprint\u001b[39m(value)\n",
      "\u001b[1;31mTypeError\u001b[0m: 'tuple' object doesn't support item deletion"
     ]
    }
   ],
   "source": [
    "#deleting a tuple\n",
    "value=(26,45,\"hello\",7.5,'z',5,6.9)\n",
    "del(value[1])\n",
    "print(value)"
   ]
  },
  {
   "cell_type": "code",
   "execution_count": 82,
   "id": "b158b906-4418-4f48-8dde-71a4bc8cfd10",
   "metadata": {},
   "outputs": [
    {
     "name": "stdout",
     "output_type": "stream",
     "text": [
      "{1, 2, 3, 'c', 'a', 'b'}\n"
     ]
    }
   ],
   "source": [
    "set1 = {\"a\", \"b\", \"c\"}\n",
    "set2 = {1, 2, 3}\n",
    "set3 = set1.union(set2)\n",
    "print(set3)"
   ]
  },
  {
   "cell_type": "code",
   "execution_count": 80,
   "id": "898dc3a2-1fab-4121-a43c-7b0abc633b43",
   "metadata": {},
   "outputs": [
    {
     "name": "stdout",
     "output_type": "stream",
     "text": [
      "('hello',)\n",
      "(('hello',),)\n",
      "((('hello',),),)\n"
     ]
    }
   ],
   "source": [
    "Tuple=('hello')\n",
    "n=3\n",
    "for i in range(int(n)):\n",
    "    Tuple=(Tuple,)\n",
    "    print(Tuple)"
   ]
  },
  {
   "cell_type": "code",
   "execution_count": 84,
   "id": "f17afaa2-1daa-4de5-8001-a78109ba6f97",
   "metadata": {},
   "outputs": [
    {
     "name": "stdout",
     "output_type": "stream",
     "text": [
      "5\n"
     ]
    }
   ],
   "source": [
    "t=('developer',5,8.9,'r',8)\n",
    "print(len(t))"
   ]
  },
  {
   "cell_type": "code",
   "execution_count": 86,
   "id": "c24c55dd-2cd7-4f89-91d2-5412f3e38445",
   "metadata": {},
   "outputs": [
    {
     "name": "stdout",
     "output_type": "stream",
     "text": [
      "89\n",
      "4\n",
      "115\n",
      "[4, 5, 8, 9, 89]\n",
      "True\n"
     ]
    }
   ],
   "source": [
    "t1=(9,5,89,4,8)\n",
    "print(max(t1))\n",
    "print(min(t1))\n",
    "print(sum(t1))\n",
    "print(sorted(t1))\n",
    "print(any(t1))\n"
   ]
  },
  {
   "cell_type": "code",
   "execution_count": 88,
   "id": "db8e84b7-c888-4024-9264-ab3181ed6ccd",
   "metadata": {},
   "outputs": [
    {
     "name": "stdout",
     "output_type": "stream",
     "text": [
      "True\n"
     ]
    }
   ],
   "source": [
    "tuple=(0,1)\n",
    "print(any(tuple))"
   ]
  },
  {
   "cell_type": "code",
   "execution_count": 90,
   "id": "eb474f60-8f8f-4b1f-b579-d7f31d2833cf",
   "metadata": {},
   "outputs": [
    {
     "name": "stdout",
     "output_type": "stream",
     "text": [
      "False\n"
     ]
    }
   ],
   "source": [
    "a=(0,)\n",
    "print(any(a))"
   ]
  },
  {
   "cell_type": "code",
   "execution_count": 92,
   "id": "9e94c874-ff2d-4cbf-9d01-37e0ba8b96ac",
   "metadata": {},
   "outputs": [
    {
     "name": "stdout",
     "output_type": "stream",
     "text": [
      "False\n"
     ]
    }
   ],
   "source": [
    "b=()\n",
    "print(any(b))"
   ]
  },
  {
   "cell_type": "code",
   "execution_count": 94,
   "id": "c88c102d-5400-44d3-8ebd-453306f10573",
   "metadata": {},
   "outputs": [
    {
     "name": "stdout",
     "output_type": "stream",
     "text": [
      "True\n"
     ]
    }
   ],
   "source": [
    "c=(4,1)\n",
    "print(all(c))"
   ]
  },
  {
   "cell_type": "code",
   "execution_count": 96,
   "id": "2238112e-989e-42e8-a9bf-74067c88d09b",
   "metadata": {},
   "outputs": [
    {
     "name": "stdout",
     "output_type": "stream",
     "text": [
      "False\n"
     ]
    }
   ],
   "source": [
    "tupl=(0,5,7)\n",
    "print(all(tupl))"
   ]
  },
  {
   "cell_type": "code",
   "execution_count": 98,
   "id": "70371926-2257-439d-aea8-af1fe0ba45bd",
   "metadata": {},
   "outputs": [
    {
     "name": "stdout",
     "output_type": "stream",
     "text": [
      "True\n"
     ]
    }
   ],
   "source": [
    "b=()\n",
    "print(all(b))"
   ]
  },
  {
   "cell_type": "code",
   "execution_count": 100,
   "id": "5c2460da-2cc3-4208-b04c-f31165ff96fc",
   "metadata": {},
   "outputs": [
    {
     "name": "stdout",
     "output_type": "stream",
     "text": [
      "apple\n",
      "byte\n",
      "computer\n"
     ]
    }
   ],
   "source": [
    "a=('apple','byte','computer')\n",
    "for i in a:\n",
    "    print(i)\n",
    "    "
   ]
  },
  {
   "cell_type": "code",
   "execution_count": 102,
   "id": "093d28f5-09b9-49b4-84a8-756d6f6d2a6b",
   "metadata": {},
   "outputs": [
    {
     "name": "stdout",
     "output_type": "stream",
     "text": [
      "['apple', 'byte', 'computer']\n"
     ]
    }
   ],
   "source": [
    "a=('apple','byte','computer')\n",
    "print(list(a))"
   ]
  },
  {
   "cell_type": "code",
   "execution_count": 104,
   "id": "8bfeca1f-49cb-4453-abcb-53d84d0c299e",
   "metadata": {},
   "outputs": [
    {
     "name": "stdout",
     "output_type": "stream",
     "text": [
      "2\n",
      "1\n",
      "0\n"
     ]
    }
   ],
   "source": [
    "a=(3,7,'p','y','z',9.5,'y')\n",
    "print(a.count('y'))\n",
    "print(a.count(7))\n",
    "print(a.count(9))"
   ]
  },
  {
   "cell_type": "code",
   "execution_count": 106,
   "id": "f8c87023-c3a2-479e-9813-b4846d10638f",
   "metadata": {},
   "outputs": [
    {
     "name": "stdout",
     "output_type": "stream",
     "text": [
      "3\n",
      "1\n"
     ]
    }
   ],
   "source": [
    "a=(3,7,'p','y','z',9.5,'y')\n",
    "print(a.index('y'))\n",
    "print(a.index(7))"
   ]
  },
  {
   "cell_type": "code",
   "execution_count": 108,
   "id": "816e9240-78e9-40a4-aef3-a89f253fd64f",
   "metadata": {},
   "outputs": [
    {
     "data": {
      "text/plain": [
       "tuple"
      ]
     },
     "execution_count": 108,
     "metadata": {},
     "output_type": "execute_result"
    }
   ],
   "source": [
    "value_tuple=(26.45,'hello')\n",
    "value=(\"a\",)\n",
    "type(value)\n"
   ]
  },
  {
   "cell_type": "code",
   "execution_count": 110,
   "id": "69692db8-b39a-40df-b6c1-e7964c97f365",
   "metadata": {},
   "outputs": [
    {
     "data": {
      "text/plain": [
       "str"
      ]
     },
     "execution_count": 110,
     "metadata": {},
     "output_type": "execute_result"
    }
   ],
   "source": [
    "value=\"b\"\n",
    "type(value)"
   ]
  },
  {
   "cell_type": "code",
   "execution_count": 112,
   "id": "12c76d54-5217-4e9f-b760-c3e8413630c4",
   "metadata": {},
   "outputs": [
    {
     "data": {
      "text/plain": [
       "(26.45, 'hello', 7.5)"
      ]
     },
     "execution_count": 112,
     "metadata": {},
     "output_type": "execute_result"
    }
   ],
   "source": [
    "#insertion in tuple\n",
    "value_tuple=(26.45,'hello',7.5)\n",
    "value_tuple"
   ]
  },
  {
   "cell_type": "code",
   "execution_count": 114,
   "id": "f8cc4ece-107a-4459-8fe0-832f82d28406",
   "metadata": {},
   "outputs": [
    {
     "ename": "TypeError",
     "evalue": "'tuple' object does not support item assignment",
     "output_type": "error",
     "traceback": [
      "\u001b[1;31m---------------------------------------------------------------------------\u001b[0m",
      "\u001b[1;31mTypeError\u001b[0m                                 Traceback (most recent call last)",
      "Cell \u001b[1;32mIn[114], line 1\u001b[0m\n\u001b[1;32m----> 1\u001b[0m value_tuple[\u001b[38;5;241m2\u001b[39m]\u001b[38;5;241m=\u001b[39m\u001b[38;5;124m\"\u001b[39m\u001b[38;5;124mpython\u001b[39m\u001b[38;5;124m\"\u001b[39m\n",
      "\u001b[1;31mTypeError\u001b[0m: 'tuple' object does not support item assignment"
     ]
    }
   ],
   "source": [
    "value_tuple[2]=\"python\""
   ]
  },
  {
   "cell_type": "code",
   "execution_count": 116,
   "id": "18c49d75-da8a-412d-9d58-6f8d2aa4bf76",
   "metadata": {},
   "outputs": [
    {
     "data": {
      "text/plain": [
       "(26.45, 'hello', 7, 5.6, 'Python')"
      ]
     },
     "execution_count": 116,
     "metadata": {},
     "output_type": "execute_result"
    }
   ],
   "source": [
    "#concatenation\n",
    "value_tuple=(26.45,'hello')\n",
    "value_tuple2=(7,5.6,\"Python\")\n",
    "value3=value_tuple+value_tuple2\n",
    "value3"
   ]
  },
  {
   "cell_type": "code",
   "execution_count": 118,
   "id": "35274b59-3353-4c10-a247-cd80e76f478c",
   "metadata": {},
   "outputs": [
    {
     "data": {
      "text/plain": [
       "((26.45, 'hello'), (7, 5.6, 'Python'))"
      ]
     },
     "execution_count": 118,
     "metadata": {},
     "output_type": "execute_result"
    }
   ],
   "source": [
    "#nesting\n",
    "\n",
    "value3=value_tuple,value_tuple2\n",
    "value3"
   ]
  },
  {
   "cell_type": "code",
   "execution_count": 120,
   "id": "02c3b851-6f09-4de1-b307-8dded977e115",
   "metadata": {},
   "outputs": [
    {
     "data": {
      "text/plain": [
       "(26, 45, 'hello', 7)"
      ]
     },
     "execution_count": 120,
     "metadata": {},
     "output_type": "execute_result"
    }
   ],
   "source": [
    "value_tuple=(26,45,'hello')\n",
    "value_tuple=value_tuple+(7,)\n",
    "value_tuple"
   ]
  },
  {
   "cell_type": "code",
   "execution_count": 122,
   "id": "93f976a4-7ea9-462c-a45b-313ce6beb27c",
   "metadata": {},
   "outputs": [
    {
     "data": {
      "text/plain": [
       "[26, 45, 'hello', 7]"
      ]
     },
     "execution_count": 122,
     "metadata": {},
     "output_type": "execute_result"
    }
   ],
   "source": [
    "value_tuple=(26,45,'hello')\n",
    "converted_list=list(value_tuple)\n",
    "converted_list.append(7)\n",
    "converted_list\n"
   ]
  },
  {
   "cell_type": "code",
   "execution_count": 30,
   "id": "146cebf8-3502-43be-92a2-3097a2a0cbf5",
   "metadata": {},
   "outputs": [
    {
     "data": {
      "text/plain": [
       "(26, 45, 'hello', 7)"
      ]
     },
     "execution_count": 30,
     "metadata": {},
     "output_type": "execute_result"
    }
   ],
   "source": [
    "value_tuple=tuple(converted_list)\n",
    "value_tuple"
   ]
  },
  {
   "cell_type": "code",
   "execution_count": 124,
   "id": "349a6516-04ad-43df-9034-28484eea79de",
   "metadata": {},
   "outputs": [
    {
     "data": {
      "text/plain": [
       "(26, 45, 'hello', 26, 45, 'hello')"
      ]
     },
     "execution_count": 124,
     "metadata": {},
     "output_type": "execute_result"
    }
   ],
   "source": [
    "#repetition in tuples\n",
    "value_tuple=(26,45,'hello')*2\n",
    "value_tuple"
   ]
  },
  {
   "cell_type": "code",
   "execution_count": 126,
   "id": "59427471-b3b8-41ad-9b48-0b236afb1e79",
   "metadata": {},
   "outputs": [
    {
     "data": {
      "text/plain": [
       "(26, 45, 'hello', 26, 45, 'hello', 26, 45, 'hello', 26, 45, 'hello')"
      ]
     },
     "execution_count": 126,
     "metadata": {},
     "output_type": "execute_result"
    }
   ],
   "source": [
    "value_tuple=(26,45,'hello')*4\n",
    "value_tuple"
   ]
  },
  {
   "cell_type": "code",
   "execution_count": 26,
   "id": "79cd9f70-74a5-41c4-9bb9-320e51831464",
   "metadata": {},
   "outputs": [
    {
     "name": "stdin",
     "output_type": "stream",
     "text": [
      " 3\n",
      " 1\n",
      " 2\n",
      " 3\n"
     ]
    },
    {
     "data": {
      "text/plain": [
       "(1, 2, 3)"
      ]
     },
     "execution_count": 26,
     "metadata": {},
     "output_type": "execute_result"
    }
   ],
   "source": [
    "#write a pyhton program to get the tuple values from user and print it\n",
    "value=()\n",
    "n=int(input())\n",
    "list1=[]\n",
    "for i in range(n):\n",
    "    list1.append(int(input()))\n",
    "value=tuple(list1)\n",
    "value\n",
    "\n",
    "\n"
   ]
  },
  {
   "cell_type": "code",
   "execution_count": 1,
   "id": "c666a758-84a2-4b06-91aa-0df1ac3d6af7",
   "metadata": {},
   "outputs": [
    {
     "name": "stdout",
     "output_type": "stream",
     "text": [
      "one\n",
      "two\n",
      "three\n",
      "four\n"
     ]
    }
   ],
   "source": [
    "#Accessing values in tuple\n",
    "number=(\"one\",\"two\",\"three\",\"four\")\n",
    "i=0\n",
    "while i<len(number):\n",
    "    print(number[i])\n",
    "    i=i+1\n",
    "    "
   ]
  },
  {
   "cell_type": "code",
   "execution_count": 3,
   "id": "19b02a04-e04e-41ad-ae03-b663df7d5c7e",
   "metadata": {},
   "outputs": [
    {
     "name": "stdout",
     "output_type": "stream",
     "text": [
      "one\n",
      "two\n",
      "three\n",
      "four\n"
     ]
    }
   ],
   "source": [
    "number=(\"one\",\"two\",\"three\",\"four\")\n",
    "for i in number:\n",
    "    print(i)"
   ]
  },
  {
   "cell_type": "code",
   "execution_count": 7,
   "id": "057252e7-0345-462d-a40a-9ac82ce3fa27",
   "metadata": {},
   "outputs": [
    {
     "name": "stdout",
     "output_type": "stream",
     "text": [
      "45\n"
     ]
    }
   ],
   "source": [
    "#write a python program to get the element 45 from the below tuple\n",
    "value_tuple=(26,12,10,6,67,91,45,'hello',75,99,7,\"Name\")\n",
    "print(value_tuple[6])"
   ]
  },
  {
   "cell_type": "code",
   "execution_count": 39,
   "id": "7a82fef8-8a91-4d2d-94bb-e09dbd90c155",
   "metadata": {},
   "outputs": [
    {
     "name": "stdout",
     "output_type": "stream",
     "text": [
      "45\n"
     ]
    }
   ],
   "source": [
    "value_tuple=(26,12,10,6,67,91,45,'hello',75,99,7,\"Name\")\n",
    "for i in value_tuple:\n",
    "    if i==45:\n",
    "        print(i)\n",
    "    "
   ]
  },
  {
   "cell_type": "code",
   "execution_count": 41,
   "id": "962dc29c-6507-48e2-93d5-153105c6c2e8",
   "metadata": {},
   "outputs": [
    {
     "name": "stdout",
     "output_type": "stream",
     "text": [
      "True\n"
     ]
    }
   ],
   "source": [
    "value_tuple=(26,12,10,6,67,91,45,'hello',75,99,7,\"Name\")\n",
    "print(45 in value_tuple)"
   ]
  },
  {
   "cell_type": "code",
   "execution_count": 33,
   "id": "449d26bd-c1ed-407a-a07e-d6f6006acb83",
   "metadata": {},
   "outputs": [
    {
     "name": "stdout",
     "output_type": "stream",
     "text": [
      "three\n"
     ]
    }
   ],
   "source": [
    "#unpacking the tuple\n",
    "numbers=(\"one\",\"two\",\"three\",\"four\")\n",
    "(a,b,c,d)=numbers\n",
    "print(c)"
   ]
  },
  {
   "cell_type": "code",
   "execution_count": 37,
   "id": "63b109c6-f21c-481c-bd56-0548cf4555c7",
   "metadata": {},
   "outputs": [
    {
     "name": "stdout",
     "output_type": "stream",
     "text": [
      "one\n",
      "two three four\n",
      "five\n"
     ]
    }
   ],
   "source": [
    "numbers=(\"one\",\"two\",\"three\",\"four\",\"five\")\n",
    "(a,*b,c)=numbers\n",
    "print(a)\n",
    "print(*b)\n",
    "print(c)"
   ]
  }
 ],
 "metadata": {
  "kernelspec": {
   "display_name": "Python 3 (ipykernel)",
   "language": "python",
   "name": "python3"
  },
  "language_info": {
   "codemirror_mode": {
    "name": "ipython",
    "version": 3
   },
   "file_extension": ".py",
   "mimetype": "text/x-python",
   "name": "python",
   "nbconvert_exporter": "python",
   "pygments_lexer": "ipython3",
   "version": "3.12.4"
  }
 },
 "nbformat": 4,
 "nbformat_minor": 5
}
