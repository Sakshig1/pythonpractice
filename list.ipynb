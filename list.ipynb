{
 "cells": [
  {
   "cell_type": "code",
   "execution_count": 1,
   "id": "d2589d02-d1bf-46cc-88ff-350b64c575a6",
   "metadata": {},
   "outputs": [
    {
     "name": "stdout",
     "output_type": "stream",
     "text": [
      "[1, 2, 3, 4]\n"
     ]
    }
   ],
   "source": [
    "#list\n",
    "#creating a list in integers\n",
    "num=[1,2,3,4]\n",
    "print(num)"
   ]
  },
  {
   "cell_type": "code",
   "execution_count": 2,
   "id": "87aa9bbe-d980-4d83-ad34-0d587b4fb9dc",
   "metadata": {},
   "outputs": [
    {
     "name": "stdout",
     "output_type": "stream",
     "text": [
      "[1.1, 2.2, 3.3, 4.4]\n"
     ]
    }
   ],
   "source": [
    "#creating a list in floating values\n",
    "num=[1.1,2.2,3.3,4.4]\n",
    "print(num)"
   ]
  },
  {
   "cell_type": "code",
   "execution_count": 3,
   "id": "f012ca63-2c24-49ab-8f5e-dcf789e3f04b",
   "metadata": {},
   "outputs": [
    {
     "data": {
      "text/plain": [
       "['a', 'b', 'c']"
      ]
     },
     "execution_count": 3,
     "metadata": {},
     "output_type": "execute_result"
    }
   ],
   "source": [
    "#creating a list in character\n",
    "a=['a','b','c']\n",
    "a"
   ]
  },
  {
   "cell_type": "code",
   "execution_count": 4,
   "id": "07bc0c1c-f9f2-4b26-9002-b1649c6a3ab5",
   "metadata": {},
   "outputs": [
    {
     "data": {
      "text/plain": [
       "['apple', 'banana', 'orange']"
      ]
     },
     "execution_count": 4,
     "metadata": {},
     "output_type": "execute_result"
    }
   ],
   "source": [
    "#creating a list in string\n",
    "a=['apple','banana','orange']\n",
    "a"
   ]
  },
  {
   "cell_type": "code",
   "execution_count": 5,
   "id": "eec1e3fc-deae-45db-8b4d-78ef7594a6e5",
   "metadata": {},
   "outputs": [
    {
     "data": {
      "text/plain": [
       "[1, 1.25, 'a', 'python']"
      ]
     },
     "execution_count": 5,
     "metadata": {},
     "output_type": "execute_result"
    }
   ],
   "source": [
    "#creating a combination of elements in list \n",
    "b=[1,1.25,'a','python']\n",
    "b"
   ]
  },
  {
   "cell_type": "code",
   "execution_count": 6,
   "id": "f3b904a5-cf9f-4d24-a13b-ac07559f1f0c",
   "metadata": {},
   "outputs": [
    {
     "data": {
      "text/plain": [
       "[[1, 2], ['a', 'b']]"
      ]
     },
     "execution_count": 6,
     "metadata": {},
     "output_type": "execute_result"
    }
   ],
   "source": [
    "#creating a list within list\n",
    "x=[[1,2],['a','b']]\n",
    "x"
   ]
  },
  {
   "cell_type": "code",
   "execution_count": 7,
   "id": "5db52f60-1964-4962-9cee-174011a9127a",
   "metadata": {},
   "outputs": [
    {
     "data": {
      "text/plain": [
       "['a', 'b', [1.5, 2.32]]"
      ]
     },
     "execution_count": 7,
     "metadata": {},
     "output_type": "execute_result"
    }
   ],
   "source": [
    "x=['a','b',[1.5,2.32]]\n",
    "x"
   ]
  },
  {
   "cell_type": "code",
   "execution_count": 8,
   "id": "4653c641-3d91-485a-947b-a2338bf9903e",
   "metadata": {},
   "outputs": [
    {
     "name": "stdout",
     "output_type": "stream",
     "text": [
      "1\n",
      "12.5\n",
      "a\n",
      "python\n",
      "[1, 12.5]\n",
      "['a', 'python']\n",
      "[1, 12.5]\n",
      "[12.5, 'a', 'python']\n",
      "[1]\n",
      "[1, 12.5, 'a', 'python']\n",
      "[1, 12.5, 'a', 'python']\n",
      "12.5\n",
      "[12.5, 'python']\n",
      "[12.5]\n"
     ]
    }
   ],
   "source": [
    "y=[1,12.5,'a','python']\n",
    "print(y[0])\n",
    "print(y[1])\n",
    "print(y[2])\n",
    "print(y[3])\n",
    "print(y[:2])\n",
    "print(y[2:])\n",
    "print(y[0:2])\n",
    "print(y[1:])\n",
    "print(y[::4])\n",
    "print(y[::1])\n",
    "print(y[-4::])\n",
    "print(y[-3])\n",
    "print(y[1:5:2])\n",
    "print(y[1:3:2])\n",
    "#print(y[::0]) error"
   ]
  },
  {
   "cell_type": "code",
   "execution_count": 9,
   "id": "1bfe65b5-ae38-43c5-886a-1bb1365480ad",
   "metadata": {},
   "outputs": [
    {
     "name": "stdout",
     "output_type": "stream",
     "text": [
      "[[0, 0, 0, 0, 0]]\n"
     ]
    }
   ],
   "source": [
    "#operations in list\n",
    "a=[0]*5\n",
    "print([a])"
   ]
  },
  {
   "cell_type": "code",
   "execution_count": 10,
   "id": "aa58f33d-d416-4ae1-9445-0f6a23829b50",
   "metadata": {},
   "outputs": [
    {
     "data": {
      "text/plain": [
       "['a', 'b', 'c', 'd', 'python', 'list']"
      ]
     },
     "execution_count": 10,
     "metadata": {},
     "output_type": "execute_result"
    }
   ],
   "source": [
    "letter=['a','b','c','d']\n",
    "stg=['python','list']\n",
    "conc=letter+stg\n",
    "conc"
   ]
  },
  {
   "cell_type": "code",
   "execution_count": 11,
   "id": "4e18dfbf-427e-4ac2-8238-34df9c92fb26",
   "metadata": {},
   "outputs": [
    {
     "data": {
      "text/plain": [
       "['p', 'y', 't', 'h', 'o', 'n']"
      ]
     },
     "execution_count": 11,
     "metadata": {},
     "output_type": "execute_result"
    }
   ],
   "source": [
    "a=list(\"python\")\n",
    "a"
   ]
  },
  {
   "cell_type": "code",
   "execution_count": 12,
   "id": "b87d66e9-f9d3-420e-888b-bec01129d254",
   "metadata": {},
   "outputs": [
    {
     "name": "stdout",
     "output_type": "stream",
     "text": [
      "[1, 2, 3, 4]\n",
      "1\n",
      "[2, 3, 4]\n"
     ]
    }
   ],
   "source": [
    "num=[1,2,3,4]\n",
    "print(num)\n",
    "a,*other=num\n",
    "print(a)\n",
    "print(other)"
   ]
  },
  {
   "cell_type": "code",
   "execution_count": 13,
   "id": "3541476f-80d6-4989-b9a4-2936bb8a668f",
   "metadata": {},
   "outputs": [
    {
     "name": "stdout",
     "output_type": "stream",
     "text": [
      "w r aasinit\n"
     ]
    }
   ],
   "source": [
    "x=\"we are data scientist\"\n",
    "print(x[::2])"
   ]
  },
  {
   "cell_type": "code",
   "execution_count": 14,
   "id": "cf69d869-78a3-4c89-ab7d-f0a6246d9cc8",
   "metadata": {},
   "outputs": [
    {
     "name": "stdout",
     "output_type": "stream",
     "text": [
      "10 20 30 40 "
     ]
    }
   ],
   "source": [
    "#list\n",
    "a=[10,20,30,40]\n",
    "for i in a:\n",
    "    print(i,end=\" \")"
   ]
  },
  {
   "cell_type": "code",
   "execution_count": 15,
   "id": "1d966b81-be34-4992-b0f3-2d4253a8ec92",
   "metadata": {},
   "outputs": [
    {
     "name": "stdout",
     "output_type": "stream",
     "text": [
      "10 20 30 40 "
     ]
    }
   ],
   "source": [
    "a = [10, 20, 30, 40]\n",
    "i = 0 \n",
    "while i < len(a):  \n",
    "    print(a[i],end=\" \")  \n",
    "    i += 1"
   ]
  },
  {
   "cell_type": "code",
   "execution_count": 16,
   "id": "843baa55-ccea-416d-97d2-ef420c471c58",
   "metadata": {},
   "outputs": [
    {
     "name": "stdout",
     "output_type": "stream",
     "text": [
      "Value found\n"
     ]
    }
   ],
   "source": [
    "#to check element 30 is present in list\n",
    "a = [10, 20, 30, 40]\n",
    "for i in a:\n",
    "    if i==40:\n",
    "        print(\"Value found\")\n",
    "        break\n",
    "else:\n",
    "    print(\"Value not found\")"
   ]
  },
  {
   "cell_type": "code",
   "execution_count": 17,
   "id": "ed333ef9-4cfa-49ca-a406-2a5b52cda643",
   "metadata": {},
   "outputs": [
    {
     "data": {
      "text/plain": [
       "True"
      ]
     },
     "execution_count": 17,
     "metadata": {},
     "output_type": "execute_result"
    }
   ],
   "source": [
    "#membership operator\n",
    "30 in a\n"
   ]
  },
  {
   "cell_type": "code",
   "execution_count": 18,
   "id": "931af45b-fc27-448a-948d-cc98c3f3e7d1",
   "metadata": {},
   "outputs": [
    {
     "name": "stdout",
     "output_type": "stream",
     "text": [
      "2\n"
     ]
    }
   ],
   "source": [
    "#to find the index value of a number\n",
    "a = [10, 20, 30, 40]\n",
    "for i in range(len(a)):\n",
    "    if a[i]==30:\n",
    "        print(i)\n",
    "        break"
   ]
  },
  {
   "cell_type": "code",
   "execution_count": 19,
   "id": "54d5f77d-6016-44ad-b41e-28c366a68f85",
   "metadata": {},
   "outputs": [
    {
     "name": "stdout",
     "output_type": "stream",
     "text": [
      "30\n"
     ]
    }
   ],
   "source": [
    "a = [10, 20, 30, 40]\n",
    "n=len(a)\n",
    "for i in range(n):\n",
    "    if a[i]==30:\n",
    "        print(a[i])\n",
    "        break"
   ]
  },
  {
   "cell_type": "code",
   "execution_count": 20,
   "id": "6fe5a245-9867-4beb-9ff7-5937e78e51b4",
   "metadata": {},
   "outputs": [
    {
     "name": "stdout",
     "output_type": "stream",
     "text": [
      "7\n"
     ]
    }
   ],
   "source": [
    "#to print index value using index keyword\n",
    "items=[1,2,3,4,5,6,7,8]\n",
    "print(items.index(8))"
   ]
  },
  {
   "cell_type": "code",
   "execution_count": 21,
   "id": "152be65e-d574-4f77-84ba-d34985f690bf",
   "metadata": {},
   "outputs": [
    {
     "data": {
      "text/plain": [
       "26"
      ]
     },
     "execution_count": 21,
     "metadata": {},
     "output_type": "execute_result"
    }
   ],
   "source": [
    "x=[11,21,3,45,65,76,87,32,54,34,78,90,98,76,112,332,445,665,765,876,234,65,44,123,87,99]\n",
    "len(x)"
   ]
  },
  {
   "cell_type": "code",
   "execution_count": 22,
   "id": "5ab4c08d-38ad-47ca-afe4-ee6cf94ff8f5",
   "metadata": {},
   "outputs": [
    {
     "data": {
      "text/plain": [
       "99"
      ]
     },
     "execution_count": 22,
     "metadata": {},
     "output_type": "execute_result"
    }
   ],
   "source": [
    "x[-1]"
   ]
  },
  {
   "cell_type": "code",
   "execution_count": 23,
   "id": "493bb408-2425-4980-ba93-3c715e7902a2",
   "metadata": {},
   "outputs": [
    {
     "data": {
      "text/plain": [
       "44"
      ]
     },
     "execution_count": 23,
     "metadata": {},
     "output_type": "execute_result"
    }
   ],
   "source": [
    "x[-4]"
   ]
  },
  {
   "cell_type": "code",
   "execution_count": 24,
   "id": "5257481d-9d36-44d3-bc54-0f8779cca916",
   "metadata": {},
   "outputs": [
    {
     "data": {
      "text/plain": [
       "876"
      ]
     },
     "execution_count": 24,
     "metadata": {},
     "output_type": "execute_result"
    }
   ],
   "source": [
    "x[-7]"
   ]
  },
  {
   "cell_type": "code",
   "execution_count": 25,
   "id": "9524d456-70a3-4388-a8fc-73fda24025a1",
   "metadata": {},
   "outputs": [
    {
     "data": {
      "text/plain": [
       "[]"
      ]
     },
     "execution_count": 25,
     "metadata": {},
     "output_type": "execute_result"
    }
   ],
   "source": [
    "#empty list\n",
    "e=[]\n",
    "e"
   ]
  },
  {
   "cell_type": "code",
   "execution_count": 26,
   "id": "e8a57a18-8069-4481-a700-af14dc251e62",
   "metadata": {},
   "outputs": [
    {
     "data": {
      "text/plain": [
       "[1, 'abc', 84.9, 'a']"
      ]
     },
     "execution_count": 26,
     "metadata": {},
     "output_type": "execute_result"
    }
   ],
   "source": [
    "#storing multiple values in a list\n",
    "info=[1,\"abc\",84.9,'a']\n",
    "info"
   ]
  },
  {
   "cell_type": "code",
   "execution_count": 27,
   "id": "f98d48f6-2923-4cbd-bf96-c94613c0751e",
   "metadata": {},
   "outputs": [
    {
     "data": {
      "text/plain": [
       "'abc'"
      ]
     },
     "execution_count": 27,
     "metadata": {},
     "output_type": "execute_result"
    }
   ],
   "source": [
    "#print abc using index value\n",
    "info[1]"
   ]
  },
  {
   "cell_type": "code",
   "execution_count": 28,
   "id": "a100c12e-2a82-48f8-9712-06db25cfe06b",
   "metadata": {},
   "outputs": [],
   "source": [
    "#In the info list,how to add all the characters of the word \"Hello\"?\n",
    "#a=['h','e','l','l','o']\n",
    "#info=[1,\"abc\",84.9,'a']\n",
    "#info.append(a)"
   ]
  },
  {
   "cell_type": "code",
   "execution_count": 29,
   "id": "02f2217b-37be-4a3a-a2cd-3ccc64efc059",
   "metadata": {},
   "outputs": [
    {
     "name": "stdout",
     "output_type": "stream",
     "text": [
      "[1, 'abc', 84.9, 'a', 'Sakshi']\n"
     ]
    }
   ],
   "source": [
    "info=[1,\"abc\",84.9,'a']\n",
    "info.append('Sakshi')\n",
    "print(info)"
   ]
  },
  {
   "cell_type": "code",
   "execution_count": 30,
   "id": "a74bf4c8-e087-4c52-a089-ba9effeae4b2",
   "metadata": {},
   "outputs": [
    {
     "name": "stdout",
     "output_type": "stream",
     "text": [
      "[1, 'abc', 84.9, 'a', 'H', 'e', 'l', 'l', 'o']\n"
     ]
    }
   ],
   "source": [
    "info1=[1,\"abc\",84.9,'a']\n",
    "info1 += \"Hello\"\n",
    "print(info1)"
   ]
  },
  {
   "cell_type": "code",
   "execution_count": 31,
   "id": "5b93a1c7-3d99-42ca-94c5-cb7acc9292b5",
   "metadata": {},
   "outputs": [
    {
     "data": {
      "text/plain": [
       "[1, 'abc', 84.9, 'a', 1, 'abc', 84.9, 'a']"
      ]
     },
     "execution_count": 31,
     "metadata": {},
     "output_type": "execute_result"
    }
   ],
   "source": [
    "info=[1,\"abc\",84.9,'a']\n",
    "info *= 2\n",
    "info"
   ]
  },
  {
   "cell_type": "code",
   "execution_count": 32,
   "id": "32047551-0514-45f9-a031-30946577006a",
   "metadata": {},
   "outputs": [],
   "source": [
    "#mutable:changable,immutable:unchangable"
   ]
  },
  {
   "cell_type": "code",
   "execution_count": 33,
   "id": "4875ae7e-88dc-4861-b421-3405b9422ad5",
   "metadata": {},
   "outputs": [
    {
     "data": {
      "text/plain": [
       "[1, 'xyz', 84.9, 'a']"
      ]
     },
     "execution_count": 33,
     "metadata": {},
     "output_type": "execute_result"
    }
   ],
   "source": [
    "#mutable\n",
    "info=[1,\"abc\",84.9,'a']\n",
    "info[1]=\"xyz\"\n",
    "info"
   ]
  },
  {
   "cell_type": "code",
   "execution_count": 34,
   "id": "4de0cfa5-4909-4853-b8a1-8f83a9e91b7c",
   "metadata": {},
   "outputs": [
    {
     "data": {
      "text/plain": [
       "[1, 'abc', 84.9]"
      ]
     },
     "execution_count": 34,
     "metadata": {},
     "output_type": "execute_result"
    }
   ],
   "source": [
    "info2=[1, 'abc', 84.9, 'a', 'H', 'e', 'l', 'l', 'o']\n",
    "info2[0:3]\n"
   ]
  },
  {
   "cell_type": "code",
   "execution_count": 35,
   "id": "4bf293a5-f53d-4e80-8d91-ed971cfc26f2",
   "metadata": {},
   "outputs": [
    {
     "data": {
      "text/plain": [
       "[]"
      ]
     },
     "execution_count": 35,
     "metadata": {},
     "output_type": "execute_result"
    }
   ],
   "source": [
    "info2[:0]"
   ]
  },
  {
   "cell_type": "code",
   "execution_count": 36,
   "id": "7469d0ef-aa0d-495f-9789-1a284dd3d433",
   "metadata": {},
   "outputs": [
    {
     "data": {
      "text/plain": [
       "[1]"
      ]
     },
     "execution_count": 36,
     "metadata": {},
     "output_type": "execute_result"
    }
   ],
   "source": [
    "info2[:1]"
   ]
  },
  {
   "cell_type": "code",
   "execution_count": 37,
   "id": "a12f57dc-4e9f-4d31-b27b-8d8f40f28e20",
   "metadata": {},
   "outputs": [
    {
     "data": {
      "text/plain": [
       "[1, 'abc']"
      ]
     },
     "execution_count": 37,
     "metadata": {},
     "output_type": "execute_result"
    }
   ],
   "source": [
    "info2[:2]"
   ]
  },
  {
   "cell_type": "code",
   "execution_count": 38,
   "id": "7be48926-5d20-4d64-9d79-132fce8b2d55",
   "metadata": {},
   "outputs": [
    {
     "data": {
      "text/plain": [
       "[1, 'abc', 84.9]"
      ]
     },
     "execution_count": 38,
     "metadata": {},
     "output_type": "execute_result"
    }
   ],
   "source": [
    "info2[:3]"
   ]
  },
  {
   "cell_type": "code",
   "execution_count": 39,
   "id": "a6b56ba1-1c32-44f7-84f4-795c0222a943",
   "metadata": {},
   "outputs": [
    {
     "data": {
      "text/plain": [
       "['a', 'H', 'e', 'l', 'l', 'o']"
      ]
     },
     "execution_count": 39,
     "metadata": {},
     "output_type": "execute_result"
    }
   ],
   "source": [
    "info2[3:]"
   ]
  },
  {
   "cell_type": "code",
   "execution_count": 40,
   "id": "c64958c2-fb25-42d9-bfd8-c437dec4596e",
   "metadata": {},
   "outputs": [
    {
     "data": {
      "text/plain": [
       "[1, 'H', 'o']"
      ]
     },
     "execution_count": 40,
     "metadata": {},
     "output_type": "execute_result"
    }
   ],
   "source": [
    "info2[::4]"
   ]
  },
  {
   "cell_type": "code",
   "execution_count": 41,
   "id": "fc5cf96b-2dec-45b6-adaa-6f1affd6667e",
   "metadata": {},
   "outputs": [
    {
     "data": {
      "text/plain": [
       "['9876543210', 8.58]"
      ]
     },
     "execution_count": 41,
     "metadata": {},
     "output_type": "execute_result"
    }
   ],
   "source": [
    "stud=[2,\"STU\",8.58,\"Female\",\"India\",\"9876543210\"]\n",
    "stud[::-3]"
   ]
  },
  {
   "cell_type": "code",
   "execution_count": 42,
   "id": "047cefdd-9f83-47f4-92d7-8807d1b52642",
   "metadata": {},
   "outputs": [
    {
     "data": {
      "text/plain": [
       "[2, 8.58, 'India']"
      ]
     },
     "execution_count": 42,
     "metadata": {},
     "output_type": "execute_result"
    }
   ],
   "source": [
    "stud[::2]"
   ]
  },
  {
   "cell_type": "code",
   "execution_count": 43,
   "id": "bd81d20c-074b-4d79-a20a-53c76f528ff0",
   "metadata": {},
   "outputs": [
    {
     "name": "stdin",
     "output_type": "stream",
     "text": [
      " 4\n"
     ]
    },
    {
     "name": "stdout",
     "output_type": "stream",
     "text": [
      "[4, 4, 4, 4, 4, 4, 4, 4, 4, 4, 4, 4, 4, 4, 4, 4, 4, 4, 4, 4, 4, 4, 4, 4, 4, 4, 4, 4, 4, 4, 4, 4, 4, 4, 4, 4, 4, 4, 4, 4, 4, 4, 4, 4, 4, 4, 4, 4, 4, 4, 4, 4, 4, 4, 4, 4, 4, 4, 4, 4, 4, 4, 4, 4, 4, 4, 4, 4, 4, 4, 4, 4, 4, 4, 4, 4, 4, 4, 4, 4, 4, 4, 4, 4, 4, 4, 4, 4, 4, 4, 4, 4, 4, 4, 4, 4, 4, 4, 4, 4]\n"
     ]
    }
   ],
   "source": [
    "#program to create 100 elements ,where all the entries are same number,and the number is given by the user\n",
    "i=int(input())\n",
    "z=[]\n",
    "z.append(i)\n",
    "z=z*100\n",
    "print(z)"
   ]
  },
  {
   "cell_type": "code",
   "execution_count": 44,
   "id": "f5bb85a6-703c-4bba-aae3-ba0d523d7933",
   "metadata": {},
   "outputs": [
    {
     "name": "stdout",
     "output_type": "stream",
     "text": [
      "[1, 3, 5, 7, 9, 11, 13, 15, 17, 19]\n"
     ]
    }
   ],
   "source": [
    "#to create a list of first 10 odd elements without using decision making statements\n",
    "odd_numbers = list(range(1, 20, 2))  \n",
    "print(odd_numbers)\n"
   ]
  },
  {
   "cell_type": "code",
   "execution_count": 45,
   "id": "a43acb62-3f4e-4ad0-b46d-38be9eeb06ce",
   "metadata": {},
   "outputs": [
    {
     "name": "stdout",
     "output_type": "stream",
     "text": [
      "[1, 2, 3, 4, 5, 6, 7, 8, 9, 10]\n",
      "[1, 3, 5, 7, 9]\n"
     ]
    }
   ],
   "source": [
    "#to create a list of 1 to 10 elements and from the list created,create another list with only odd values\n",
    "numbers = list(range(1, 11))  \n",
    "odd=numbers[::2]\n",
    "print(numbers)\n",
    "print(odd)"
   ]
  },
  {
   "cell_type": "code",
   "execution_count": 46,
   "id": "cfb9a1a0-5854-45be-8869-4d514a8d8645",
   "metadata": {},
   "outputs": [
    {
     "name": "stdout",
     "output_type": "stream",
     "text": [
      "[1, 2, 3, 4, 5, 6, 7, 8, 9, 10]\n",
      "[2, 4, 6, 8, 10]\n"
     ]
    }
   ],
   "source": [
    "#to create a list of 1 to 10 elements and from the list created,create another list with only even values\n",
    "numbers = list(range(1, 11))  \n",
    "even=numbers[1::2]\n",
    "print(numbers)\n",
    "print(even)"
   ]
  },
  {
   "cell_type": "code",
   "execution_count": 47,
   "id": "a018b6c3-b97f-4657-8766-de80dae52706",
   "metadata": {},
   "outputs": [
    {
     "name": "stdout",
     "output_type": "stream",
     "text": [
      "['a', 'b', 'c', 'd']\n",
      "['e', 'f', 'g', 'h']\n"
     ]
    }
   ],
   "source": [
    "#concatenation\n",
    "list1=['a','b','c','d']\n",
    "print(list1)\n",
    "list2=['e','f','g','h']\n",
    "print(list2)"
   ]
  },
  {
   "cell_type": "code",
   "execution_count": 48,
   "id": "2675d139-9240-4d34-b743-4efcdcfd84a0",
   "metadata": {},
   "outputs": [
    {
     "data": {
      "text/plain": [
       "['a', 'b', 'c', 'd', 'e', 'f', 'g', 'h']"
      ]
     },
     "execution_count": 48,
     "metadata": {},
     "output_type": "execute_result"
    }
   ],
   "source": [
    "con=list1+list2\n",
    "con"
   ]
  },
  {
   "cell_type": "code",
   "execution_count": 49,
   "id": "4bbbfccd-a839-4498-a46b-5198607a710c",
   "metadata": {},
   "outputs": [
    {
     "name": "stdin",
     "output_type": "stream",
     "text": [
      " 4\n"
     ]
    },
    {
     "data": {
      "text/plain": [
       "['4']"
      ]
     },
     "execution_count": 49,
     "metadata": {},
     "output_type": "execute_result"
    }
   ],
   "source": [
    "#code to create a list ,which extracts from the string given by the user\n",
    "ab=input()\n",
    "li=list(ab)\n",
    "li\n"
   ]
  },
  {
   "cell_type": "code",
   "execution_count": 50,
   "id": "8473160e-ba20-43be-bbbd-f9fe57771f54",
   "metadata": {},
   "outputs": [
    {
     "name": "stdin",
     "output_type": "stream",
     "text": [
      " 1\n",
      " 1\n"
     ]
    },
    {
     "data": {
      "text/plain": [
       "['1', '1']"
      ]
     },
     "execution_count": 50,
     "metadata": {},
     "output_type": "execute_result"
    }
   ],
   "source": [
    "#code to get the input from the user for creating two lists and add the elemnts of one list into another\n",
    "x=list(input())\n",
    "x\n",
    "y=list(input())\n",
    "y\n",
    "z=x+y\n",
    "z"
   ]
  },
  {
   "cell_type": "code",
   "execution_count": 51,
   "id": "31c9936b-021d-4c0f-8e8a-76e3e8513324",
   "metadata": {},
   "outputs": [
    {
     "name": "stdout",
     "output_type": "stream",
     "text": [
      "[1, 2, 3, 4, 5, 6, 7, 8, 9, 10]\n"
     ]
    },
    {
     "data": {
      "text/plain": [
       "10"
      ]
     },
     "execution_count": 51,
     "metadata": {},
     "output_type": "execute_result"
    }
   ],
   "source": [
    "maximum=list(range(1,11))\n",
    "print(maximum)\n",
    "n=max(maximum)\n",
    "n"
   ]
  },
  {
   "cell_type": "code",
   "execution_count": 52,
   "id": "4bdcfb5f-a34f-4eff-96bd-31384376cc42",
   "metadata": {},
   "outputs": [
    {
     "name": "stdin",
     "output_type": "stream",
     "text": [
      " 1\n"
     ]
    },
    {
     "name": "stdout",
     "output_type": "stream",
     "text": [
      "A = [1]\n",
      "0\n"
     ]
    }
   ],
   "source": [
    "a=list(map(int, input().split()))\n",
    "b=[]\n",
    "i=0\n",
    "while i<len(a):\n",
    "    if a[i]==2 or a[i]==3:\n",
    "        b.append(a[i])\n",
    "        a[i]= 0\n",
    "    else:\n",
    "        i+=1\n",
    "print(\"A =\", a)\n",
    "print(len(b))"
   ]
  },
  {
   "cell_type": "code",
   "execution_count": 53,
   "id": "63b3ff85-fafa-4228-8a44-c5b0d4c3cd0a",
   "metadata": {},
   "outputs": [
    {
     "name": "stdin",
     "output_type": "stream",
     "text": [
      " 1\n"
     ]
    },
    {
     "ename": "ValueError",
     "evalue": "not enough values to unpack (expected 2, got 1)",
     "output_type": "error",
     "traceback": [
      "\u001b[1;31m---------------------------------------------------------------------------\u001b[0m",
      "\u001b[1;31mValueError\u001b[0m                                Traceback (most recent call last)",
      "Cell \u001b[1;32mIn[53], line 1\u001b[0m\n\u001b[1;32m----> 1\u001b[0m n, S \u001b[38;5;241m=\u001b[39m \u001b[38;5;28mmap\u001b[39m(\u001b[38;5;28mint\u001b[39m, \u001b[38;5;28minput\u001b[39m()\u001b[38;5;241m.\u001b[39msplit())\n\u001b[0;32m      2\u001b[0m w \u001b[38;5;241m=\u001b[39m \u001b[38;5;28mlist\u001b[39m(\u001b[38;5;28mmap\u001b[39m(\u001b[38;5;28mint\u001b[39m, \u001b[38;5;28minput\u001b[39m()\u001b[38;5;241m.\u001b[39msplit()))\n\u001b[0;32m      3\u001b[0m dp \u001b[38;5;241m=\u001b[39m [\u001b[38;5;241m0\u001b[39m] \u001b[38;5;241m*\u001b[39m (S \u001b[38;5;241m+\u001b[39m \u001b[38;5;241m1\u001b[39m)\n",
      "\u001b[1;31mValueError\u001b[0m: not enough values to unpack (expected 2, got 1)"
     ]
    }
   ],
   "source": [
    "n, S = map(int, input().split())\n",
    "w = list(map(int, input().split()))\n",
    "dp = [0] * (S + 1)\n",
    "dp[0] = 0\n",
    "dp"
   ]
  },
  {
   "cell_type": "code",
   "execution_count": null,
   "id": "5d49b4c1-39d7-4707-998d-aef810a4950c",
   "metadata": {},
   "outputs": [],
   "source": [
    "#wapp to get the input from the user for creating two lists and add the elements of one list into other\n",
    "size=(int(input(\"Enter the size\")))\n",
    "list1=[]\n",
    "for i in range(size):\n",
    "    list1.append(int(input()))\n",
    "print(list1)\n",
    "\n",
    "size2=int(input(\"Enter the size\"))\n",
    "list2=[]\n",
    "for i in range(size2):\n",
    "    list2.append(int(input()))\n",
    "print(list2)"
   ]
  },
  {
   "cell_type": "code",
   "execution_count": null,
   "id": "3dc2f013-2a0f-4088-8ebc-93405d94e33d",
   "metadata": {},
   "outputs": [],
   "source": [
    "x=\"hi,how are you\"\n",
    "x.split()\n"
   ]
  },
  {
   "cell_type": "code",
   "execution_count": null,
   "id": "a97d5774-776d-44e7-b6b6-7e1d4e660960",
   "metadata": {},
   "outputs": [],
   "source": [
    "#to find the maximum number in the list\n",
    "a=int(input())\n",
    "b=list(map(int,input().split()))\n",
    "print(max(b))"
   ]
  },
  {
   "cell_type": "code",
   "execution_count": null,
   "id": "5462ec4f-6234-4ff9-adbb-65ebe9dddfdb",
   "metadata": {},
   "outputs": [],
   "source": [
    "#python program to find second largest number in the list\n",
    "m=int(input())\n",
    "n=list(map(int,input().split()))\n",
    "n.sort()\n",
    "print(n[-2])"
   ]
  },
  {
   "cell_type": "code",
   "execution_count": null,
   "id": "699a1ef8-3dcd-4e34-9e95-6c830e2de6b8",
   "metadata": {},
   "outputs": [],
   "source": [
    "#python code to create a list of 1 to 10 elements and from the list created,create another list with on;y odd values\n",
    "list3=list(range(1,11))\n",
    "odd=list3[::2]\n",
    "print(list3)\n",
    "print(odd)\n"
   ]
  },
  {
   "cell_type": "code",
   "execution_count": null,
   "id": "27228e1b-358c-4632-a111-5d8833a5ce2d",
   "metadata": {},
   "outputs": [],
   "source": [
    "even=list3[1::2]\n",
    "print(even)"
   ]
  },
  {
   "cell_type": "code",
   "execution_count": null,
   "id": "f85fdbc7-812c-4bea-bb26-4c564eee81b7",
   "metadata": {},
   "outputs": [],
   "source": [
    "#python program to find the largest even and odd number in the list\n",
    "n=int(input())\n",
    "b=[]\n",
    "for i in range(n):\n",
    "    a=int(input())\n",
    "    b.append(a)\n",
    "c=[]\n",
    "d=[]\n",
    "for i in b:\n",
    "    if(i%2==0):\n",
    "        c.append(i)\n",
    "    else:\n",
    "        d.append(i)\n",
    "c.sort()\n",
    "d.sort()\n",
    "print(\"Largest even number=\",c[-1])\n",
    "print(\"Largest odd number=\",d[-1])"
   ]
  },
  {
   "cell_type": "code",
   "execution_count": null,
   "id": "083ccfbe-f555-438a-86d1-ca8b8e40ed6f",
   "metadata": {},
   "outputs": [],
   "source": [
    "#union=list(set().union(l1,l2))\n",
    "#program to find union of two lists\n",
    "l1=[]\n",
    "num1=int(input(\"Enter the size of l1:\"))\n"
   ]
  },
  {
   "cell_type": "code",
   "execution_count": null,
   "id": "357cf259-89bc-47ae-a861-aa047999f53d",
   "metadata": {},
   "outputs": [],
   "source": [
    "a1=list(map(int,input().split()))\n",
    "b1=list(map(int,input().split()))\n",
    "union=list(set().union(a1,b1))\n",
    "print('The union of two lists is:',union)"
   ]
  },
  {
   "cell_type": "code",
   "execution_count": null,
   "id": "9c933fd7-82b3-43b4-bb7f-f3978326506a",
   "metadata": {},
   "outputs": [],
   "source": [
    "#write a program to find the number of distinct elements in a list\n",
    "def distinct(lst):\n",
    "    return len(set(lst))\n",
    "x= input(\"Enter the elements of the list \")\n",
    "y = list(map(int, x.split()))\n",
    "res= count_distinct_elements(y)\n",
    "print(\"Number of distinct elements:\", res)"
   ]
  },
  {
   "cell_type": "code",
   "execution_count": null,
   "id": "3212297b-1588-471b-9abc-b960dbaaf897",
   "metadata": {},
   "outputs": [],
   "source": [
    "#write the program to print the number of repeated elements in a list\n",
    "from collections import Counter\n",
    "def count_repeated_elements(lst):\n",
    "        counts = Counter(lst)\n",
    "        repeated_elements = {key: value for key, value in counts.items() if value > 1}\n",
    "        return len(repeated_elements)\n",
    "user_input = input(\"Enter the elements of the list (separated by spaces): \")\n",
    "user_list = list(map(int, user_input.split()))\n",
    "\n",
    "# Calculate the number of repeated elements\n",
    "result = count_repeated_elements(user_list)\n",
    "\n",
    "# Output the result\n",
    "print(\"Number of repeated elements:\", result)"
   ]
  },
  {
   "cell_type": "code",
   "execution_count": 56,
   "id": "c5c0fb01-2126-46b9-82b4-a42556b8ce16",
   "metadata": {},
   "outputs": [
    {
     "name": "stdin",
     "output_type": "stream",
     "text": [
      " 5\n",
      " 2 3 4 5 6\n"
     ]
    },
    {
     "name": "stdout",
     "output_type": "stream",
     "text": [
      "[6, 3, 4, 5, 2]\n"
     ]
    }
   ],
   "source": [
    "#python code to swap the first and last value of the list\n",
    "size_of_list=int(input())\n",
    "list1=list(map(int, input().split()))\n",
    "list1[0]=list1[0]+list1[-1]\n",
    "list1[-1]=list1[0]-list1[-1]\n",
    "list1[0]=list1[0]-list1[-1]\n",
    "print(list1)"
   ]
  },
  {
   "cell_type": "code",
   "execution_count": null,
   "id": "42f4cb56-65b0-4282-b6fe-1ec9818e0bcf",
   "metadata": {},
   "outputs": [],
   "source": [
    "#python program to remove the duplicate items from the list"
   ]
  }
 ],
 "metadata": {
  "kernelspec": {
   "display_name": "Python 3 (ipykernel)",
   "language": "python",
   "name": "python3"
  },
  "language_info": {
   "codemirror_mode": {
    "name": "ipython",
    "version": 3
   },
   "file_extension": ".py",
   "mimetype": "text/x-python",
   "name": "python",
   "nbconvert_exporter": "python",
   "pygments_lexer": "ipython3",
   "version": "3.12.4"
  }
 },
 "nbformat": 4,
 "nbformat_minor": 5
}
