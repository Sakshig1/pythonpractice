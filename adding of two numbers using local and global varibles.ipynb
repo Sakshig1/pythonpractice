{
 "cells": [
  {
   "cell_type": "code",
   "execution_count": 7,
   "id": "4c487f92-c8e0-4d33-ac5b-79398400dc15",
   "metadata": {},
   "outputs": [
    {
     "name": "stdout",
     "output_type": "stream",
     "text": [
      "inside the function local total: 30\n",
      "outside the function global total: 0\n"
     ]
    }
   ],
   "source": [
    "total=0;\n",
    "def sum(arg1,arg2):\n",
    "    total=arg1+arg2;\n",
    "    print(\"inside the function local total:\",total)\n",
    "    return total;\n",
    "sum(10,20);\n",
    "print(\"outside the function global total:\",total)"
   ]
  },
  {
   "cell_type": "markdown",
   "id": "40791a9e-97db-4ad7-910d-80c78084cc58",
   "metadata": {},
   "source": []
  }
 ],
 "metadata": {
  "kernelspec": {
   "display_name": "Python 3 (ipykernel)",
   "language": "python",
   "name": "python3"
  },
  "language_info": {
   "codemirror_mode": {
    "name": "ipython",
    "version": 3
   },
   "file_extension": ".py",
   "mimetype": "text/x-python",
   "name": "python",
   "nbconvert_exporter": "python",
   "pygments_lexer": "ipython3",
   "version": "3.12.4"
  }
 },
 "nbformat": 4,
 "nbformat_minor": 5
}
