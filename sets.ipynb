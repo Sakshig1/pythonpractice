{
 "cells": [
  {
   "cell_type": "code",
   "execution_count": 9,
   "id": "80c2fb04-e805-4c2e-b9d9-ee318cd6b133",
   "metadata": {},
   "outputs": [
    {
     "data": {
      "text/plain": [
       "{2, 5, 9.4, 'a', 'apple', 'python'}"
      ]
     },
     "execution_count": 9,
     "metadata": {},
     "output_type": "execute_result"
    }
   ],
   "source": [
    "value_set={2,'python','a',5,9.4}\n",
    "value_set.add(\"apple\")\n",
    "value_set"
   ]
  },
  {
   "cell_type": "code",
   "execution_count": 11,
   "id": "e8cbab61-a467-4a23-940d-9d5b004e0c5c",
   "metadata": {},
   "outputs": [
    {
     "name": "stdout",
     "output_type": "stream",
     "text": [
      "5\n"
     ]
    }
   ],
   "source": [
    "value_set={2,\"python\",\"a\",5,9.4}\n",
    "print(len(value_set))"
   ]
  },
  {
   "cell_type": "code",
   "execution_count": 13,
   "id": "4cfa7ab8-0fc9-4c31-9bf0-9111c28cbf56",
   "metadata": {},
   "outputs": [
    {
     "name": "stdout",
     "output_type": "stream",
     "text": [
      "{2, 5, 9.4, 'a'}\n"
     ]
    }
   ],
   "source": [
    "value_set={2,\"python\",\"a\",5,9.4}\n",
    "value_set.remove('python')\n",
    "print(value_set)"
   ]
  },
  {
   "cell_type": "code",
   "execution_count": 15,
   "id": "0e2afbad-30f1-414c-8a9e-46374926ebdb",
   "metadata": {},
   "outputs": [
    {
     "name": "stdout",
     "output_type": "stream",
     "text": [
      "{2, 5, 9.4, 'a'}\n"
     ]
    }
   ],
   "source": [
    "value_set={2,\"python\",\"a\",5,9.4}\n",
    "value_set.discard('python')\n",
    "print(value_set)"
   ]
  },
  {
   "cell_type": "code",
   "execution_count": 1,
   "id": "e2bc3474-8767-4ef6-b515-c77b8ab8d722",
   "metadata": {},
   "outputs": [
    {
     "data": {
      "text/plain": [
       "{5.6, 6, 'Python'}"
      ]
     },
     "execution_count": 1,
     "metadata": {},
     "output_type": "execute_result"
    }
   ],
   "source": [
    "values={6,'Python',5.6}\n",
    "values"
   ]
  },
  {
   "cell_type": "code",
   "execution_count": 5,
   "id": "58923b39-2518-44cd-bc16-e763699d0829",
   "metadata": {},
   "outputs": [
    {
     "name": "stdout",
     "output_type": "stream",
     "text": [
      "<class 'set'>\n"
     ]
    }
   ],
   "source": [
    "print(type(values))"
   ]
  },
  {
   "cell_type": "code",
   "execution_count": 7,
   "id": "0c6a2c0f-4095-4139-a2f6-5c8b91c148ad",
   "metadata": {},
   "outputs": [
    {
     "data": {
      "text/plain": [
       "dict"
      ]
     },
     "execution_count": 7,
     "metadata": {},
     "output_type": "execute_result"
    }
   ],
   "source": [
    "value={}\n",
    "type(value)"
   ]
  },
  {
   "cell_type": "code",
   "execution_count": 11,
   "id": "73cc7acd-03b9-42ac-b553-4ed519bc1708",
   "metadata": {},
   "outputs": [
    {
     "data": {
      "text/plain": [
       "set"
      ]
     },
     "execution_count": 11,
     "metadata": {},
     "output_type": "execute_result"
    }
   ],
   "source": [
    "values=set()\n",
    "type(values)"
   ]
  },
  {
   "cell_type": "code",
   "execution_count": 13,
   "id": "1753e0c9-bc71-453d-8372-bc37926dd924",
   "metadata": {},
   "outputs": [
    {
     "data": {
      "text/plain": [
       "{1, 2, 3, 4, 5, 12, 45}"
      ]
     },
     "execution_count": 13,
     "metadata": {},
     "output_type": "execute_result"
    }
   ],
   "source": [
    "values={12,1,2,3,2,45,4,5,3}\n",
    "values"
   ]
  },
  {
   "cell_type": "code",
   "execution_count": 15,
   "id": "cf9082b5-f092-4e67-881d-917b83591645",
   "metadata": {},
   "outputs": [
    {
     "data": {
      "text/plain": [
       "{2, 5, 9.4, 'a', 'python'}"
      ]
     },
     "execution_count": 15,
     "metadata": {},
     "output_type": "execute_result"
    }
   ],
   "source": [
    "value_set={2,\"python\",\"a\",5,9.4}\n",
    "value_set"
   ]
  },
  {
   "cell_type": "code",
   "execution_count": 17,
   "id": "3bf00a8a-53df-434a-a24d-3f25ea39856e",
   "metadata": {},
   "outputs": [
    {
     "ename": "TypeError",
     "evalue": "'set' object is not subscriptable",
     "output_type": "error",
     "traceback": [
      "\u001b[1;31m---------------------------------------------------------------------------\u001b[0m",
      "\u001b[1;31mTypeError\u001b[0m                                 Traceback (most recent call last)",
      "Cell \u001b[1;32mIn[17], line 1\u001b[0m\n\u001b[1;32m----> 1\u001b[0m value_set[\u001b[38;5;241m0\u001b[39m]\n",
      "\u001b[1;31mTypeError\u001b[0m: 'set' object is not subscriptable"
     ]
    }
   ],
   "source": [
    "value_set[0]"
   ]
  },
  {
   "cell_type": "code",
   "execution_count": 19,
   "id": "afd62f5b-ac15-4e53-a3fb-7111ad62efc1",
   "metadata": {},
   "outputs": [
    {
     "ename": "AttributeError",
     "evalue": "'set' object has no attribute 'append'",
     "output_type": "error",
     "traceback": [
      "\u001b[1;31m---------------------------------------------------------------------------\u001b[0m",
      "\u001b[1;31mAttributeError\u001b[0m                            Traceback (most recent call last)",
      "Cell \u001b[1;32mIn[19], line 1\u001b[0m\n\u001b[1;32m----> 1\u001b[0m value_set\u001b[38;5;241m.\u001b[39mappend(\u001b[38;5;124m\"\u001b[39m\u001b[38;5;124mHello\u001b[39m\u001b[38;5;124m\"\u001b[39m)\n\u001b[0;32m      2\u001b[0m value_set\n",
      "\u001b[1;31mAttributeError\u001b[0m: 'set' object has no attribute 'append'"
     ]
    }
   ],
   "source": [
    "value_set.append(\"Hello\")\n",
    "value_set"
   ]
  },
  {
   "cell_type": "code",
   "execution_count": 21,
   "id": "16dd0fe4-d676-44ad-a9d8-80004f2a6573",
   "metadata": {},
   "outputs": [
    {
     "ename": "TypeError",
     "evalue": "unsupported operand type(s) for +: 'set' and 'str'",
     "output_type": "error",
     "traceback": [
      "\u001b[1;31m---------------------------------------------------------------------------\u001b[0m",
      "\u001b[1;31mTypeError\u001b[0m                                 Traceback (most recent call last)",
      "Cell \u001b[1;32mIn[21], line 1\u001b[0m\n\u001b[1;32m----> 1\u001b[0m value_set\u001b[38;5;241m=\u001b[39mvalue_set\u001b[38;5;241m+\u001b[39m\u001b[38;5;124m\"\u001b[39m\u001b[38;5;124mHello\u001b[39m\u001b[38;5;124m\"\u001b[39m\n\u001b[0;32m      2\u001b[0m value_set\n",
      "\u001b[1;31mTypeError\u001b[0m: unsupported operand type(s) for +: 'set' and 'str'"
     ]
    }
   ],
   "source": [
    "value_set=value_set+\"Hello\"\n",
    "value_set"
   ]
  },
  {
   "cell_type": "code",
   "execution_count": 30,
   "id": "341232cb-8738-4fd5-ad84-5eeeaf637dc3",
   "metadata": {},
   "outputs": [
    {
     "data": {
      "text/plain": [
       "{2, 5, 9.4, 'a', 'apple', 'python'}"
      ]
     },
     "execution_count": 30,
     "metadata": {},
     "output_type": "execute_result"
    }
   ],
   "source": [
    "value_set.add(\"apple\")\n",
    "value_set"
   ]
  },
  {
   "cell_type": "code",
   "execution_count": 32,
   "id": "1defd01d-7232-42cd-a623-4642767d4e3f",
   "metadata": {},
   "outputs": [
    {
     "data": {
      "text/plain": [
       "{2, 5, 9.4, 'a', 'python'}"
      ]
     },
     "execution_count": 32,
     "metadata": {},
     "output_type": "execute_result"
    }
   ],
   "source": [
    "#deleting element in set\n",
    "value_set={2,\"python\",\"a\",5,9.4}\n",
    "value_set"
   ]
  },
  {
   "cell_type": "code",
   "execution_count": 34,
   "id": "b3581157-0d22-4b15-965c-465481187888",
   "metadata": {},
   "outputs": [
    {
     "data": {
      "text/plain": [
       "{2, 5, 9.4, 'a'}"
      ]
     },
     "execution_count": 34,
     "metadata": {},
     "output_type": "execute_result"
    }
   ],
   "source": [
    "value_set.remove('python')\n",
    "value_set"
   ]
  },
  {
   "cell_type": "code",
   "execution_count": 36,
   "id": "3e3ebf9d-fe73-4ae7-8d62-8b69e4b02e76",
   "metadata": {},
   "outputs": [
    {
     "ename": "KeyError",
     "evalue": "6",
     "output_type": "error",
     "traceback": [
      "\u001b[1;31m---------------------------------------------------------------------------\u001b[0m",
      "\u001b[1;31mKeyError\u001b[0m                                  Traceback (most recent call last)",
      "Cell \u001b[1;32mIn[36], line 1\u001b[0m\n\u001b[1;32m----> 1\u001b[0m value_set\u001b[38;5;241m.\u001b[39mremove(\u001b[38;5;241m6\u001b[39m)\n",
      "\u001b[1;31mKeyError\u001b[0m: 6"
     ]
    }
   ],
   "source": [
    "value_set.remove(6)"
   ]
  },
  {
   "cell_type": "code",
   "execution_count": 44,
   "id": "26590a3a-e3fd-46f0-b9a3-1565e3a6d0ff",
   "metadata": {},
   "outputs": [
    {
     "data": {
      "text/plain": [
       "{2, 5, 'a'}"
      ]
     },
     "execution_count": 44,
     "metadata": {},
     "output_type": "execute_result"
    }
   ],
   "source": [
    "value_set.discard(9.4)\n",
    "value_set"
   ]
  },
  {
   "cell_type": "code",
   "execution_count": 46,
   "id": "bf61f6ec-26b7-432e-9058-2a0191549eae",
   "metadata": {},
   "outputs": [
    {
     "data": {
      "text/plain": [
       "{2, 5, 'a'}"
      ]
     },
     "execution_count": 46,
     "metadata": {},
     "output_type": "execute_result"
    }
   ],
   "source": [
    "value_set.discard(10)\n",
    "value_set"
   ]
  },
  {
   "cell_type": "code",
   "execution_count": 48,
   "id": "c4d2a97a-9843-4f0f-9de5-073404d58cec",
   "metadata": {},
   "outputs": [
    {
     "data": {
      "text/plain": [
       "{2, 5, 9.4, 'a', 'python'}"
      ]
     },
     "execution_count": 48,
     "metadata": {},
     "output_type": "execute_result"
    }
   ],
   "source": [
    "#clear or delete a set\n",
    "value_set={2,\"python\",\"a\",5,9.4}\n",
    "value_set"
   ]
  },
  {
   "cell_type": "code",
   "execution_count": 50,
   "id": "a5c40765-7fa9-4caa-84ef-d46ad61ec60e",
   "metadata": {},
   "outputs": [
    {
     "data": {
      "text/plain": [
       "set()"
      ]
     },
     "execution_count": 50,
     "metadata": {},
     "output_type": "execute_result"
    }
   ],
   "source": [
    "value_set.clear()\n",
    "value_set"
   ]
  },
  {
   "cell_type": "code",
   "execution_count": 52,
   "id": "c8d24db8-f1d1-4cdc-b938-15d4c54ffa1b",
   "metadata": {},
   "outputs": [
    {
     "data": {
      "text/plain": [
       "{2, 5, 9.4, 'a', 'python'}"
      ]
     },
     "execution_count": 52,
     "metadata": {},
     "output_type": "execute_result"
    }
   ],
   "source": [
    "value_set={2,\"python\",\"a\",5,9.4}\n",
    "value_set"
   ]
  },
  {
   "cell_type": "code",
   "execution_count": 54,
   "id": "1e8170ce-4984-4124-99a8-fd6fcf0c68da",
   "metadata": {},
   "outputs": [],
   "source": [
    "del value_set"
   ]
  },
  {
   "cell_type": "code",
   "execution_count": 56,
   "id": "c9407fe4-1f58-477b-8a94-ccd6c4512ad4",
   "metadata": {},
   "outputs": [
    {
     "ename": "NameError",
     "evalue": "name 'value_set' is not defined",
     "output_type": "error",
     "traceback": [
      "\u001b[1;31m---------------------------------------------------------------------------\u001b[0m",
      "\u001b[1;31mNameError\u001b[0m                                 Traceback (most recent call last)",
      "Cell \u001b[1;32mIn[56], line 1\u001b[0m\n\u001b[1;32m----> 1\u001b[0m value_set\n",
      "\u001b[1;31mNameError\u001b[0m: name 'value_set' is not defined"
     ]
    }
   ],
   "source": [
    "value_set"
   ]
  },
  {
   "cell_type": "code",
   "execution_count": 5,
   "id": "745b0503-045d-4c02-b6ec-de5e732c164f",
   "metadata": {},
   "outputs": [
    {
     "name": "stdin",
     "output_type": "stream",
     "text": [
      " 4\n",
      " 6\n",
      " 10\n",
      " 16\n",
      " 12\n"
     ]
    },
    {
     "data": {
      "text/plain": [
       "{6, 10, 12, 16}"
      ]
     },
     "execution_count": 5,
     "metadata": {},
     "output_type": "execute_result"
    }
   ],
   "source": [
    "#write a python program to get the set elements from the user and print the elements in the created set\n",
    "value_set=set()\n",
    "n=int(input())\n",
    "for i in range(n):\n",
    "    value_set.add(int(input()))\n",
    "value_set"
   ]
  },
  {
   "cell_type": "code",
   "execution_count": 8,
   "id": "2aebd1f1-b3e7-4cc6-bce3-c4886e79fbd2",
   "metadata": {},
   "outputs": [
    {
     "name": "stdout",
     "output_type": "stream",
     "text": [
      "16\n",
      "10\n",
      "12\n",
      "6\n"
     ]
    }
   ],
   "source": [
    "for i in value_set:\n",
    "    print(i)"
   ]
  },
  {
   "cell_type": "code",
   "execution_count": 16,
   "id": "af9c4c47-5048-4ea2-82f7-7d7d4301164a",
   "metadata": {},
   "outputs": [
    {
     "name": "stdin",
     "output_type": "stream",
     "text": [
      " 10\n"
     ]
    },
    {
     "name": "stdout",
     "output_type": "stream",
     "text": [
      "True\n"
     ]
    }
   ],
   "source": [
    "#write a python code to check whether the element got from the user is present in value_set\n",
    "value_set={16,10,12,6}\n",
    "x=int(input())\n",
    "print(x in value_set)"
   ]
  },
  {
   "cell_type": "code",
   "execution_count": 18,
   "id": "d5fe7d88-70fd-4c37-a88a-3d25089d3c2f",
   "metadata": {},
   "outputs": [
    {
     "data": {
      "text/plain": [
       "4"
      ]
     },
     "execution_count": 18,
     "metadata": {},
     "output_type": "execute_result"
    }
   ],
   "source": [
    "#write a python program to find the length of set\n",
    "len(value_set)"
   ]
  },
  {
   "cell_type": "code",
   "execution_count": 24,
   "id": "bdc7ffae-de02-4ca4-9aa0-ce01778d1cf7",
   "metadata": {},
   "outputs": [
    {
     "data": {
      "text/plain": [
       "{'dec', 'feb', 'jan', 'mar'}"
      ]
     },
     "execution_count": 24,
     "metadata": {},
     "output_type": "execute_result"
    }
   ],
   "source": [
    "#Union of two sets\n",
    "month1_set={\"jan\",\"feb\",\"dec\",\"mar\"}\n",
    "month2_set={\"may\",\"jan\",\"oct\",\"mar\"}\n",
    "month1_set\n"
   ]
  },
  {
   "cell_type": "code",
   "execution_count": 26,
   "id": "df33d9a7-81c4-4389-b29c-7259467d28db",
   "metadata": {},
   "outputs": [
    {
     "data": {
      "text/plain": [
       "{'jan', 'mar', 'may', 'oct'}"
      ]
     },
     "execution_count": 26,
     "metadata": {},
     "output_type": "execute_result"
    }
   ],
   "source": [
    "month2_set\n"
   ]
  },
  {
   "cell_type": "code",
   "execution_count": 28,
   "id": "26d1ce51-0963-4536-8904-7ae1db24fd03",
   "metadata": {},
   "outputs": [
    {
     "data": {
      "text/plain": [
       "{'dec', 'feb', 'jan', 'mar', 'may', 'oct'}"
      ]
     },
     "execution_count": 28,
     "metadata": {},
     "output_type": "execute_result"
    }
   ],
   "source": [
    "#union operation\n",
    "month=month1_set | month2_set\n",
    "month"
   ]
  },
  {
   "cell_type": "code",
   "execution_count": 30,
   "id": "3913f5e6-59d5-40c5-afab-3e7946a0c601",
   "metadata": {},
   "outputs": [
    {
     "data": {
      "text/plain": [
       "{'dec', 'feb', 'jan', 'mar', 'may', 'oct'}"
      ]
     },
     "execution_count": 30,
     "metadata": {},
     "output_type": "execute_result"
    }
   ],
   "source": [
    "month_common=month1_set.union(month2_set)\n",
    "month_common"
   ]
  },
  {
   "cell_type": "code",
   "execution_count": 32,
   "id": "e83c9c0b-7194-421e-a9b9-6e552c477162",
   "metadata": {},
   "outputs": [
    {
     "data": {
      "text/plain": [
       "{'jan', 'mar'}"
      ]
     },
     "execution_count": 32,
     "metadata": {},
     "output_type": "execute_result"
    }
   ],
   "source": [
    "#Intersection of two sets\n",
    "common=month1_set & month2_set\n",
    "common"
   ]
  },
  {
   "cell_type": "code",
   "execution_count": 34,
   "id": "8135b176-9b77-46f6-bcdd-b08bd216453b",
   "metadata": {},
   "outputs": [
    {
     "data": {
      "text/plain": [
       "{'jan', 'mar'}"
      ]
     },
     "execution_count": 34,
     "metadata": {},
     "output_type": "execute_result"
    }
   ],
   "source": [
    "month_common=month1_set.intersection(month2_set)\n",
    "month_common"
   ]
  },
  {
   "cell_type": "code",
   "execution_count": 36,
   "id": "bb900dbc-1633-439a-bca3-8977e506f3f1",
   "metadata": {},
   "outputs": [
    {
     "data": {
      "text/plain": [
       "{'dec', 'feb'}"
      ]
     },
     "execution_count": 36,
     "metadata": {},
     "output_type": "execute_result"
    }
   ],
   "source": [
    "#difference of two sets\n",
    "diff=(month1_set-month2_set)\n",
    "diff\n"
   ]
  },
  {
   "cell_type": "code",
   "execution_count": 38,
   "id": "15e83dec-9067-4753-abb2-6cdcdb96fc7c",
   "metadata": {},
   "outputs": [
    {
     "data": {
      "text/plain": [
       "{'may', 'oct'}"
      ]
     },
     "execution_count": 38,
     "metadata": {},
     "output_type": "execute_result"
    }
   ],
   "source": [
    "diff=(month2_set-month1_set)\n",
    "diff"
   ]
  },
  {
   "cell_type": "code",
   "execution_count": 40,
   "id": "e56894f8-0f59-476c-8aed-5bf9156b6bfa",
   "metadata": {},
   "outputs": [
    {
     "data": {
      "text/plain": [
       "{'dec', 'feb'}"
      ]
     },
     "execution_count": 40,
     "metadata": {},
     "output_type": "execute_result"
    }
   ],
   "source": [
    "x=month1_set.difference(month2_set)\n",
    "x"
   ]
  },
  {
   "cell_type": "code",
   "execution_count": 42,
   "id": "76e04c6e-7517-40e3-9d81-499a162aed22",
   "metadata": {},
   "outputs": [
    {
     "data": {
      "text/plain": [
       "{'may', 'oct'}"
      ]
     },
     "execution_count": 42,
     "metadata": {},
     "output_type": "execute_result"
    }
   ],
   "source": [
    "x=month2_set.difference(month1_set)\n",
    "x"
   ]
  },
  {
   "cell_type": "code",
   "execution_count": 44,
   "id": "f7afec74-73e5-4d0d-a8b8-d80c150cdce4",
   "metadata": {},
   "outputs": [
    {
     "data": {
      "text/plain": [
       "True"
      ]
     },
     "execution_count": 44,
     "metadata": {},
     "output_type": "execute_result"
    }
   ],
   "source": [
    "#Set Comparisons\n",
    "month1_set={\"jan\",\"feb\",\"dec\",\"mar\"}\n",
    "month2_set={\"jan\",\"feb\"}\n",
    "month1_set > month2_set"
   ]
  },
  {
   "cell_type": "code",
   "execution_count": 1,
   "id": "ed53edc8-298c-42ca-93f2-7a644503263b",
   "metadata": {},
   "outputs": [
    {
     "name": "stdout",
     "output_type": "stream",
     "text": [
      "True\n"
     ]
    }
   ],
   "source": [
    "month1_set={\"jan\",\"feb\",\"dec\",\"mar\"}\n",
    "month2_set={\"jan\",\"feb\"}\n",
    "print(month1_set>month2_set)"
   ]
  },
  {
   "cell_type": "code",
   "execution_count": 3,
   "id": "aaa6c8c1-4284-4e1a-8320-6613e9196a40",
   "metadata": {},
   "outputs": [
    {
     "name": "stdout",
     "output_type": "stream",
     "text": [
      "False\n"
     ]
    }
   ],
   "source": [
    "print(month1_set<month2_set)"
   ]
  },
  {
   "cell_type": "code",
   "execution_count": 5,
   "id": "dea7ab64-2a37-4ead-a96c-c060f863b775",
   "metadata": {},
   "outputs": [
    {
     "name": "stdout",
     "output_type": "stream",
     "text": [
      "False\n"
     ]
    }
   ],
   "source": [
    "print(month1_set==month2_set)"
   ]
  },
  {
   "cell_type": "code",
   "execution_count": 1,
   "id": "3a53e9d2-2787-4bc1-b2eb-32dad20a9155",
   "metadata": {},
   "outputs": [
    {
     "name": "stdout",
     "output_type": "stream",
     "text": [
      "{0, 1, 4, 9, 16}\n"
     ]
    }
   ],
   "source": [
    "#Create a set of squares of numbers from 0 to 4\n",
    "squares={x**2 for x in range(5)}\n",
    "print(squares)"
   ]
  },
  {
   "cell_type": "code",
   "execution_count": 3,
   "id": "a2bee73d-8e65-4b6f-97a7-ad79079230d2",
   "metadata": {},
   "outputs": [
    {
     "name": "stdout",
     "output_type": "stream",
     "text": [
      "{1, 4, 9, 16, 25}\n"
     ]
    }
   ],
   "source": [
    "#creating a new set of squared values\n",
    "numbers=[1,2,3,4,5]\n",
    "squared_numbers={x**2 for x in numbers}\n",
    "print(squared_numbers)"
   ]
  },
  {
   "cell_type": "code",
   "execution_count": 13,
   "id": "d38aed6e-db3f-4117-92e5-b5885ff1fd40",
   "metadata": {},
   "outputs": [
    {
     "name": "stdout",
     "output_type": "stream",
     "text": [
      "{2, 4}\n"
     ]
    }
   ],
   "source": [
    "#create a set of squares , but only for even number\n",
    "numbers=[1,2,3,4,5]\n",
    "even_num={x for x  in numbers if x%2==0}\n",
    "print(even_num)"
   ]
  },
  {
   "cell_type": "code",
   "execution_count": 17,
   "id": "3b4d74f9-3882-45a3-ad95-02f0994ff0b1",
   "metadata": {},
   "outputs": [
    {
     "name": "stdout",
     "output_type": "stream",
     "text": [
      "{'banana', 'apple', 'cherry'}\n"
     ]
    }
   ],
   "source": [
    "#say the fruit name without vowel\n",
    "words=['apple','banana','cherry','lyn']\n",
    "vowels={'a','e','i','o','u'}\n",
    "vowel_words={word for word in words if any(letter in vowels for letter in word)}\n",
    "print(vowel_words)"
   ]
  },
  {
   "cell_type": "code",
   "execution_count": 22,
   "id": "356c90d6-1583-4f09-83e1-acf8e623392f",
   "metadata": {},
   "outputs": [
    {
     "name": "stdout",
     "output_type": "stream",
     "text": [
      "{1, 4, 36, 9, 16, 25}\n"
     ]
    }
   ],
   "source": [
    "#Eliminating duplicates\n",
    "duplicates=[1,2,3,3,4,5,1,6]\n",
    "unique_squares={x**2 for x in duplicates}\n",
    "print(unique_squares)"
   ]
  },
  {
   "cell_type": "code",
   "execution_count": 24,
   "id": "2f168d83-fcca-4436-a2cc-13f32549b382",
   "metadata": {},
   "outputs": [
    {
     "name": "stdout",
     "output_type": "stream",
     "text": [
      "{'L', 'W', 'O', 'H', 'R', 'E', 'D'}\n"
     ]
    }
   ],
   "source": [
    "#Set Comprehension with string manipulation\n",
    "#create a set of uppercase letters from string\n",
    "text=\"hello world\"\n",
    "uppercase_letters={char.upper() for char in text if char.isalpha()}\n",
    "print(uppercase_letters)"
   ]
  },
  {
   "cell_type": "code",
   "execution_count": null,
   "id": "44b07d87-8cf2-4b3f-b3cb-127c6ae279ed",
   "metadata": {},
   "outputs": [],
   "source": []
  }
 ],
 "metadata": {
  "kernelspec": {
   "display_name": "Python 3 (ipykernel)",
   "language": "python",
   "name": "python3"
  },
  "language_info": {
   "codemirror_mode": {
    "name": "ipython",
    "version": 3
   },
   "file_extension": ".py",
   "mimetype": "text/x-python",
   "name": "python",
   "nbconvert_exporter": "python",
   "pygments_lexer": "ipython3",
   "version": "3.12.4"
  }
 },
 "nbformat": 4,
 "nbformat_minor": 5
}
